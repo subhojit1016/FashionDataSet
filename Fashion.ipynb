{
  "cells": [
    {
      "cell_type": "code",
      "execution_count": 118,
      "metadata": {
        "colab": {
          "base_uri": "https://localhost:8080/"
        },
        "id": "TKDagLaPjFLC",
        "outputId": "ea979c4c-fdf5-4522-b888-d1e78909156c"
      },
      "outputs": [
        {
          "name": "stdout",
          "output_type": "stream",
          "text": [
            "Requirement already satisfied: torchinfo in /usr/local/lib/python3.7/dist-packages (1.6.5)\n"
          ]
        }
      ],
      "source": [
        "!pip install torchinfo"
      ]
    },
    {
      "cell_type": "code",
      "execution_count": 119,
      "metadata": {
        "colab": {
          "base_uri": "https://localhost:8080/"
        },
        "id": "nCzMNSfw7KO0",
        "outputId": "8d6d056b-a757-4161-ad6c-006c817f123c"
      },
      "outputs": [
        {
          "name": "stdout",
          "output_type": "stream",
          "text": [
            "*** No hardware acceleration: change to GPU under Runtime > Change runtime type > Hardware accelerator\n"
          ]
        }
      ],
      "source": [
        "# \n",
        "# Checking if hardware acceleration enabled\n",
        "import os \n",
        "if int(os.environ['COLAB_GPU']) > 0:\n",
        "  print (\"*** GPU connected\")\n",
        "else:\n",
        "  print (\"*** No hardware acceleration: change to GPU under Runtime > Change runtime type > Hardware accelerator\")"
      ]
    },
    {
      "cell_type": "markdown",
      "metadata": {
        "id": "rBZBZCnqjLsp"
      },
      "source": [
        "## Data Preparation"
      ]
    },
    {
      "cell_type": "code",
      "execution_count": 120,
      "metadata": {
        "id": "i0NCql1pd7e6"
      },
      "outputs": [],
      "source": [
        "# Importing the libraries\n",
        "import os\n",
        "import torch\n",
        "import torchvision\n",
        "from torchvision.utils import make_grid\n",
        "from PIL import Image\n",
        "import requests\n",
        "\n",
        "import numpy as np"
      ]
    },
    {
      "cell_type": "markdown",
      "metadata": {
        "id": "MaDH8gtdd7e8"
      },
      "source": [
        "In this assignment, we will use the Fashion-MNIST dataset. Fashion-MNIST is a dataset of Zalando's article images—consisting of a training set of 60,000 examples and a test set of 10,000 examples. Each example is a 28x28 grayscale image, associated with a label from 10 classes.  \n",
        "\n",
        "### Data\n",
        "\n",
        "Each image is 28 pixels in height and 28 pixels in width, for a total of 784 pixels in total. Each pixel has a single pixel-value associated with it, indicating the lightness or darkness of that pixel, with higher numbers meaning darker. This pixel-value is an integer between 0 and 255.  \n",
        "\n",
        "### Labels\n",
        "\n",
        "Each training and test example is assigned to one of the following labels:\n",
        "\n",
        "| Label | Description |\n",
        "|-------|-------------|\n",
        "| 0     | T-shirt/top |\n",
        "| 1     | Trouser     |\n",
        "| 2     | Pullover    |\n",
        "| 3     | Dress       |\n",
        "| 4     | Coat        |\n",
        "| 5     | Sandal      |\n",
        "| 6     | Shirt       |\n",
        "| 7     | Sneaker     |\n",
        "| 8     | Bag         |\n",
        "| 9     | Ankle boot  |\n",
        "\n",
        "Fashion-MNIST is included in the `torchvision` library."
      ]
    },
    {
      "cell_type": "code",
      "execution_count": 121,
      "metadata": {
        "id": "Z798mUqTd7e9"
      },
      "outputs": [],
      "source": [
        "from torchvision.datasets import FashionMNIST\n",
        "from torchvision.transforms import Compose, ToTensor, Normalize"
      ]
    },
    {
      "cell_type": "code",
      "execution_count": 122,
      "metadata": {
        "id": "p4lC3ve2ejUI"
      },
      "outputs": [],
      "source": [
        "from torchvision.transforms import RandomRotation, GaussianBlur, RandomHorizontalFlip, RandomCrop"
      ]
    },
    {
      "cell_type": "code",
      "execution_count": 123,
      "metadata": {
        "id": "2Z-JXzcNd7e-"
      },
      "outputs": [],
      "source": [
        "# Transform to normalize the data and convert to a tensor\n",
        "transform = Compose([GaussianBlur(3), ToTensor(), \n",
        "    Normalize((0.5,), (0.5,))\n",
        "    ])\n",
        "\n",
        "# Download the data\n",
        "dataset = FashionMNIST('MNIST_data/', download = True, train = True, transform = transform)"
      ]
    },
    {
      "cell_type": "markdown",
      "metadata": {
        "id": "poonGygNd7e_"
      },
      "source": [
        "**NOTE:** You may add more operations to `Compose` if you're performing data augmentation."
      ]
    },
    {
      "cell_type": "markdown",
      "metadata": {
        "id": "DaAqD5iod7fA"
      },
      "source": [
        "## Data Exploration"
      ]
    },
    {
      "cell_type": "markdown",
      "metadata": {
        "id": "d0HMLIl8d7fB"
      },
      "source": [
        "Let's take a look at the classes in our dataset."
      ]
    },
    {
      "cell_type": "code",
      "execution_count": 124,
      "metadata": {
        "colab": {
          "base_uri": "https://localhost:8080/"
        },
        "id": "fYWMPrqyd7fB",
        "outputId": "beeff97f-c86b-4738-b487-5d691ae907aa"
      },
      "outputs": [
        {
          "name": "stdout",
          "output_type": "stream",
          "text": [
            "['T-shirt/top', 'Trouser', 'Pullover', 'Dress', 'Coat', 'Sandal', 'Shirt', 'Sneaker', 'Bag', 'Ankle boot']\n"
          ]
        }
      ],
      "source": [
        "print(dataset.classes)"
      ]
    },
    {
      "cell_type": "code",
      "execution_count": 125,
      "metadata": {
        "id": "fFGZx9tPd7fC"
      },
      "outputs": [],
      "source": [
        "import matplotlib.pyplot as plt\n",
        "\n",
        "def show_example(img, label):\n",
        "    print('Label: {} ({})'.format(dataset.classes[label], label))\n",
        "    plt.imshow(img.squeeze(), cmap='Greys_r')\n",
        "    plt.axis(False)"
      ]
    },
    {
      "cell_type": "code",
      "execution_count": 126,
      "metadata": {
        "colab": {
          "base_uri": "https://localhost:8080/",
          "height": 266
        },
        "id": "KH0ujCLzd7fC",
        "outputId": "5c9c09f4-c6fa-4dcb-d51e-0c1f1864a66b"
      },
      "outputs": [
        {
          "name": "stdout",
          "output_type": "stream",
          "text": [
            "Label: Dress (3)\n"
          ]
        },
        {
          "data": {
            "image/png": "[encoded data removed]",
            "text/plain": [
              "<Figure size 432x288 with 1 Axes>"
            ]
          },
          "metadata": {
            "needs_background": "light"
          },
          "output_type": "display_data"
        }
      ],
      "source": [
        "show_example(*dataset[20])"
      ]
    },
    {
      "cell_type": "code",
      "execution_count": 127,
      "metadata": {
        "colab": {
          "base_uri": "https://localhost:8080/",
          "height": 266
        },
        "id": "Ibr_8mvGd7fD",
        "outputId": "5fc0fcec-3a46-42c4-8b5e-8f7e0014fe50"
      },
      "outputs": [
        {
          "name": "stdout",
          "output_type": "stream",
          "text": [
            "Label: Sneaker (7)\n"
          ]
        },
        {
          "data": {
            "image/png": "[encoded data removed]",
            "text/plain": [
              "<Figure size 432x288 with 1 Axes>"
            ]
          },
          "metadata": {
            "needs_background": "light"
          },
          "output_type": "display_data"
        }
      ],
      "source": [
        "show_example(*dataset[20000])"
      ]
    },
    {
      "cell_type": "markdown",
      "metadata": {
        "id": "gRST2b0Id7fD"
      },
      "source": [
        "The `split_indices` function takes in the size of the entire dataset, `n`, the fraction of data to be used as validation set, `val_frac`, and the random seed and returns the indices of the data points to be added to the validation dataset.  \n",
        "\n",
        "**Choose a suitable fraction for your validation set and experiment with the seed. Remember that the better your validation set, the higher the chances that your model would do well on the test set.**"
      ]
    },
    {
      "cell_type": "code",
      "execution_count": 128,
      "metadata": {
        "id": "ICQyVJSCd7fD"
      },
      "outputs": [],
      "source": [
        "def split_indices(n, val_frac, seed):\n",
        "    # Determine the size of the validation set\n",
        "    n_val = int(val_frac * n)\n",
        "    np.random.seed(seed)\n",
        "    # Create random permutation between 0 to n-1\n",
        "    idxs = np.random.permutation(n)\n",
        "    # Pick first n_val indices for validation set\n",
        "    return idxs[n_val:], idxs[:n_val]"
      ]
    },
    {
      "cell_type": "code",
      "execution_count": 129,
      "metadata": {
        "colab": {
          "base_uri": "https://localhost:8080/"
        },
        "id": "Okd969PMd7fE",
        "outputId": "91e2281c-aabc-438d-942a-54b3e51230ee"
      },
      "outputs": [
        {
          "name": "stdout",
          "output_type": "stream",
          "text": [
            "#samples in training set: 48000\n",
            "#samples in validation set: 12000\n"
          ]
        }
      ],
      "source": [
        "######################\n",
        "#   YOUR CODE HERE   #\n",
        "######################\n",
        "val_frac =  0.2 \n",
        "## Set the fraction for the validation set\n",
        "rand_seed = 10 \n",
        "## Set the random seed\n",
        "\n",
        "train_indices, val_indices = split_indices(len(dataset), val_frac, rand_seed)\n",
        "print(\"#samples in training set: {}\".format(len(train_indices)))\n",
        "print(\"#samples in validation set: {}\".format(len(val_indices)))"
      ]
    },
    {
      "cell_type": "markdown",
      "metadata": {
        "id": "TFioAgKgd7fE"
      },
      "source": [
        "Next, we make use of the built-in dataloaders in PyTorch to create iterables of our our training and validation sets. This helps in avoiding fitting the whole dataset into memory and only loads a batch of the data that we can decide. \n",
        "\n",
        "**Set the `batch_size` depending on the hardware resource (GPU/CPU RAM) you are using for the assignment.**"
      ]
    },
    {
      "cell_type": "code",
      "execution_count": 130,
      "metadata": {
        "id": "9befIig0d7fE"
      },
      "outputs": [],
      "source": [
        "from torch.utils.data.sampler import SubsetRandomSampler\n",
        "from torch.utils.data.dataloader import DataLoader"
      ]
    },
    {
      "cell_type": "code",
      "execution_count": 131,
      "metadata": {
        "id": "vfk3dPrLd7fF"
      },
      "outputs": [],
      "source": [
        "######################\n",
        "#   YOUR CODE HERE   #\n",
        "######################\n",
        "batch_size = 50\n",
        "## Set the batch size"
      ]
    },
    {
      "cell_type": "code",
      "execution_count": 132,
      "metadata": {
        "id": "1LFDd_qbd7fF"
      },
      "outputs": [],
      "source": [
        "# Training sampler and data loader\n",
        "train_sampler = SubsetRandomSampler(train_indices)\n",
        "train_dl = DataLoader(dataset,\n",
        "                     batch_size,\n",
        "                     sampler=train_sampler)\n",
        "\n",
        "# Validation sampler and data loader\n",
        "val_sampler = SubsetRandomSampler(val_indices)\n",
        "val_dl = DataLoader(dataset,\n",
        "                   batch_size,\n",
        "                   sampler=val_sampler)"
      ]
    },
    {
      "cell_type": "markdown",
      "metadata": {
        "id": "Kl1TvXQId7fF"
      },
      "source": [
        "Plot images in a sample batch of data."
      ]
    },
    {
      "cell_type": "code",
      "execution_count": 133,
      "metadata": {
        "id": "W45yega0d7fF"
      },
      "outputs": [],
      "source": [
        "def show_batch(dl):\n",
        "    for images, labels in dl:\n",
        "        fig, ax = plt.subplots(figsize=(10,10))\n",
        "        ax.set_xticks([]); ax.set_yticks([])\n",
        "        ax.imshow(make_grid(images, 8).permute(1, 2, 0), cmap='Greys_r')\n",
        "        break"
      ]
    },
    {
      "cell_type": "code",
      "execution_count": 134,
      "metadata": {
        "colab": {
          "base_uri": "https://localhost:8080/",
          "height": 540
        },
        "id": "q-bxq1y5d7fF",
        "outputId": "e7cce84f-128e-4032-c7e2-a50336f40fe5"
      },
      "outputs": [
        {
          "name": "stderr",
          "output_type": "stream",
          "text": [
            "Clipping input data to the valid range for imshow with RGB data ([0..1] for floats or [0..255] for integers).\n"
          ]
        },
        {
          "data": {
            "image/png": "[encoded data removed]",
            "text/plain": [
              "<Figure size 720x720 with 1 Axes>"
            ]
          },
          "metadata": {},
          "output_type": "display_data"
        }
      ],
      "source": [
        "show_batch(train_dl)"
      ]
    },
    {
      "cell_type": "markdown",
      "metadata": {
        "id": "1swT2eKjd7fG"
      },
      "source": [
        "**Create your model by defining the network architecture in the `ImageClassifierNet` class.**  \n",
        "**NOTE:** The number of parameters in your network must be $\\leq$ 100,000."
      ]
    },
    {
      "cell_type": "code",
      "execution_count": 135,
      "metadata": {
        "id": "yZhEfH2Pd7fG"
      },
      "outputs": [],
      "source": [
        "# Import the libraries\n",
        "import torch.nn as nn\n",
        "import torch.nn.functional as F\n",
        "\n",
        "from torchinfo import summary"
      ]
    },
    {
      "cell_type": "code",
      "execution_count": 136,
      "metadata": {
        "id": "DS0hG2adyW2_"
      },
      "outputs": [],
      "source": [
        "from torch.optim import Adam, SGD\n",
        "from torch.autograd import Variable\n",
        "from tqdm import tqdm\n",
        "from sklearn.metrics import accuracy_score\n",
        "import torch.nn.init as nl\n"
      ]
    },
    {
      "cell_type": "code",
      "execution_count": 137,
      "metadata": {
        "id": "8yeVBIMzd7fG"
      },
      "outputs": [],
      "source": [
        "class ImageClassifierNet(nn.Module):\n",
        "    def __init__(self, n_channels=3):\n",
        "        super(ImageClassifierNet, self).__init__()\n",
        "        ######################\n",
        "        #   YOUR CODE HERE   #\n",
        "        ######################\n",
        "    \n",
        "        #first hidden layer\n",
        "        self.hidden1 = nn.Conv2d(1, 4, (3,3), stride=1, padding=1)\n",
        "        self.act1 = nn.ReLU()\n",
        "        # first pooling layer\n",
        "        self.pool1 = nn.MaxPool2d((2,2), stride=(2,2))\n",
        "        self.drop1 = nn.Dropout(p=0.1)\n",
        "        self.batch1 = nn.BatchNorm2d(4)\n",
        "        # second hidden layer\n",
        "        self.hidden2 = nn.Conv2d(4, 16, (3,3), stride=1, padding=1)\n",
        "        \n",
        "        self.act2 = nn.ReLU()\n",
        "        # second pooling layer\n",
        "        self.pool2 = nn.MaxPool2d((2,2), stride=(2,2))\n",
        "        self.batch2 = nn.BatchNorm2d(16)\n",
        "        self.drop2 = nn.Dropout(p=0.1)\n",
        "        # third hidden layer\n",
        "        \n",
        "        # fully connected layer\n",
        "        self.hidden4 = nn.Linear(7*7*16, 100)\n",
        "        nl.xavier_uniform_(self.hidden4.weight)\n",
        "        #nl.kaiming_uniform_(self.hidden4.weight, nonlinearity='relu')\n",
        "        self.act4 = nn.ReLU()\n",
        "        # output layer\n",
        "        self.hidden5 = nn.Linear(100, 10)\n",
        "        nl.xavier_uniform_(self.hidden5.weight)\n",
        "        \n",
        "        self.act5 = nn.ReLU()\n",
        "        \n",
        "        \n",
        "    def forward(self, X):\n",
        "        ######################\n",
        "        #   YOUR CODE HERE   #\n",
        "        ######################\n",
        "        X = self.hidden1(X)\n",
        "        X = self.act1(X)\n",
        "        X = self.pool1(X)\n",
        "        X = self.drop1(X)\n",
        "        X = self.batch1(X)\n",
        "        # second hidden layer\n",
        "        X = self.hidden2(X)\n",
        "        X = self.act2(X)\n",
        "        X = self.pool2(X)\n",
        "        X = self.drop2(X)\n",
        "        X = self.batch2(X)\n",
        "        \n",
        "        # flatten\n",
        "        X = X.view(X.size(0), -1)\n",
        "        # third hidden layer\n",
        "        X = self.hidden4(X)\n",
        "        X = self.act4(X)\n",
        "        # output layer\n",
        "        X = self.hidden5(X)\n",
        "        X = self.act5(X)\n",
        "        return X\n",
        "        "
      ]
    },
    {
      "cell_type": "code",
      "execution_count": 138,
      "metadata": {
        "id": "pb4smLb6d7fG"
      },
      "outputs": [],
      "source": [
        "model = ImageClassifierNet()"
      ]
    },
    {
      "cell_type": "markdown",
      "metadata": {
        "id": "jc7MAuPnd7fG"
      },
      "source": [
        "The following code block prints your network architecture. It also shows the total number of parameters in your network (see `Total params`).  \n",
        "\n",
        "**NOTE: The total number of parameters in your model should be <= 100,000.**"
      ]
    },
    {
      "cell_type": "code",
      "execution_count": 139,
      "metadata": {
        "colab": {
          "base_uri": "https://localhost:8080/"
        },
        "id": "1uxKLwc9d7fH",
        "outputId": "e7a81c29-d0fa-4891-b225-192080babf9b"
      },
      "outputs": [
        {
          "data": {
            "text/plain": [
              "==========================================================================================\n",
              "Layer (type:depth-idx)                   Output Shape              Param #\n",
              "==========================================================================================\n",
              "ImageClassifierNet                       --                        --\n",
              "├─Conv2d: 1-1                            [50, 4, 28, 28]           40\n",
              "├─ReLU: 1-2                              [50, 4, 28, 28]           --\n",
              "├─MaxPool2d: 1-3                         [50, 4, 14, 14]           --\n",
              "├─Dropout: 1-4                           [50, 4, 14, 14]           --\n",
              "├─BatchNorm2d: 1-5                       [50, 4, 14, 14]           8\n",
              "├─Conv2d: 1-6                            [50, 16, 14, 14]          592\n",
              "├─ReLU: 1-7                              [50, 16, 14, 14]          --\n",
              "├─MaxPool2d: 1-8                         [50, 16, 7, 7]            --\n",
              "├─Dropout: 1-9                           [50, 16, 7, 7]            --\n",
              "├─BatchNorm2d: 1-10                      [50, 16, 7, 7]            32\n",
              "├─Linear: 1-11                           [50, 100]                 78,500\n",
              "├─ReLU: 1-12                             [50, 100]                 --\n",
              "├─Linear: 1-13                           [50, 10]                  1,010\n",
              "├─ReLU: 1-14                             [50, 10]                  --\n",
              "==========================================================================================\n",
              "Total params: 80,182\n",
              "Trainable params: 80,182\n",
              "Non-trainable params: 0\n",
              "Total mult-adds (M): 11.35\n",
              "==========================================================================================\n",
              "Input size (MB): 0.16\n",
              "Forward/backward pass size (MB): 3.18\n",
              "Params size (MB): 0.32\n",
              "Estimated Total Size (MB): 3.66\n",
              "=========================================================================================="
            ]
          },
          "execution_count": 139,
          "metadata": {},
          "output_type": "execute_result"
        }
      ],
      "source": [
        "summary(model, input_size=(batch_size, 1, 28, 28))"
      ]
    },
    {
      "cell_type": "markdown",
      "metadata": {
        "id": "qVOq40u6d7fH"
      },
      "source": [
        "## Enable training on a GPU"
      ]
    },
    {
      "cell_type": "code",
      "execution_count": 140,
      "metadata": {
        "id": "ClLoelbdd7fH"
      },
      "outputs": [],
      "source": [
        "def get_default_device():\n",
        "    \"\"\"Use GPU if available, else CPU\"\"\"\n",
        "    if torch.cuda.is_available():\n",
        "        return torch.device('cuda')\n",
        "    else:\n",
        "        return torch.device('cpu')\n",
        "\n",
        "def to_device(data, device):\n",
        "    \"\"\"Move tensor(s) to chosen device\"\"\"\n",
        "    if isinstance(data, (list,tuple)):\n",
        "        return [to_device(x, device) for x in data]\n",
        "    return data.to(device, non_blocking=True)\n",
        "\n",
        "class DeviceDataLoader():\n",
        "    \"\"\"Wrap a dataloader to move data to a device\"\"\"\n",
        "    def __init__(self, dl, device):\n",
        "        self.dl = dl\n",
        "        self.device = device\n",
        "    \n",
        "    def __iter__(self):\n",
        "        \"\"\"Yield a batch of data after moving it to device\"\"\"\n",
        "        for b in self.dl:\n",
        "            yield to_device(b, self.device)\n",
        "    \n",
        "    def __len__(self):\n",
        "        \"\"\"Number of batches\"\"\"\n",
        "        return len(self.dl)"
      ]
    },
    {
      "cell_type": "code",
      "execution_count": 141,
      "metadata": {
        "colab": {
          "base_uri": "https://localhost:8080/"
        },
        "id": "-HUYiRiFd7fH",
        "outputId": "b91fafda-3402-4a8c-9815-2daaf9b29d88"
      },
      "outputs": [
        {
          "data": {
            "text/plain": [
              "ImageClassifierNet(\n",
              "  (hidden1): Conv2d(1, 4, kernel_size=(3, 3), stride=(1, 1), padding=(1, 1))\n",
              "  (act1): ReLU()\n",
              "  (pool1): MaxPool2d(kernel_size=(2, 2), stride=(2, 2), padding=0, dilation=1, ceil_mode=False)\n",
              "  (drop1): Dropout(p=0.1, inplace=False)\n",
              "  (batch1): BatchNorm2d(4, eps=1e-05, momentum=0.1, affine=True, track_running_stats=True)\n",
              "  (hidden2): Conv2d(4, 16, kernel_size=(3, 3), stride=(1, 1), padding=(1, 1))\n",
              "  (act2): ReLU()\n",
              "  (pool2): MaxPool2d(kernel_size=(2, 2), stride=(2, 2), padding=0, dilation=1, ceil_mode=False)\n",
              "  (batch2): BatchNorm2d(16, eps=1e-05, momentum=0.1, affine=True, track_running_stats=True)\n",
              "  (drop2): Dropout(p=0.1, inplace=False)\n",
              "  (hidden4): Linear(in_features=784, out_features=100, bias=True)\n",
              "  (act4): ReLU()\n",
              "  (hidden5): Linear(in_features=100, out_features=10, bias=True)\n",
              "  (act5): ReLU()\n",
              ")"
            ]
          },
          "execution_count": 141,
          "metadata": {},
          "output_type": "execute_result"
        }
      ],
      "source": [
        "device = get_default_device()\n",
        "\n",
        "train_dl = DeviceDataLoader(train_dl, device)\n",
        "val_dl = DeviceDataLoader(val_dl, device)\n",
        "\n",
        "to_device(model, device)"
      ]
    },
    {
      "cell_type": "markdown",
      "metadata": {
        "id": "562yZnB8d7fI"
      },
      "source": [
        "**Complete the `train_model` function to train your model on a dataset. Tune your network architecture and hyperparameters on the validation set.**"
      ]
    },
    {
      "cell_type": "code",
      "execution_count": 142,
      "metadata": {
        "id": "Phb4fOh-d7fI"
      },
      "outputs": [],
      "source": [
        "def train_model(n_epochs, model, train_dl, val_dl, loss_fn, opt_fn, lr):\n",
        "    \"\"\"\n",
        "    Trains the model on a dataset.\n",
        "    \n",
        "    Args:\n",
        "        n_epochs: number of epochs\n",
        "        model: ImageClassifierNet object\n",
        "        train_dl: training dataloader\n",
        "        val_dl: validation dataloader\n",
        "        loss_fn: the loss function\n",
        "        opt_fn: the optimizer\n",
        "        lr: learning rate\n",
        "    \n",
        "    Returns:\n",
        "        The trained model. \n",
        "        A tuple of (model, train_losses, val_losses, train_accuracies, val_accuracies)\n",
        "    \"\"\"\n",
        "    # Record these values the end of each epoch\n",
        "    train_losses, val_losses, train_accuracies, val_accuracies = [], [], [], []\n",
        "    \n",
        "\n",
        "    ######################\n",
        "    #   YOUR CODE HERE   #\n",
        "    ######################\n",
        "    if(len(val_dl) != 0):\n",
        "      last_loss = 100\n",
        "      patience = 3\n",
        "      triggertimes = 0\n",
        "      for epoch in range(n_epochs):\n",
        "        running_loss=0\n",
        "        correct=0\n",
        "        total=0\n",
        "        for i, (batch_X, batch_Y) in enumerate(train_dl):\n",
        "        \n",
        "              \n",
        "          # Select a minibatch\n",
        "          X = Variable(batch_X)    # image is already size of (28x28), no reshape\n",
        "          Y = Variable(batch_Y)    # label is not one-hot encoded\n",
        "            \n",
        "          # initialization of the gradients\n",
        "            \n",
        "          opt_fn.zero_grad()\n",
        "        \n",
        "          # prediction for training and validation set\n",
        "          hypothesis = model(X)\n",
        "          \n",
        "          loss_train = loss_fn(hypothesis, Y)\n",
        "          \n",
        "          #l2_lambda = 0.01\n",
        "          #l2_norm = sum(p.pow(2.0).sum() for p in model.parameters())\n",
        "\n",
        "          #loss_train = loss_train + l2_lambda * l2_norm\n",
        "                  \n",
        "          \n",
        "          \n",
        "          loss_train.backward() # <= compute the gradients\n",
        "          \n",
        "          # Update parameters (weights and biais)\n",
        "          opt_fn.step()\n",
        "          running_loss += loss_train.item()\n",
        "          _, predicted = hypothesis.max(1)\n",
        "          total += Y.size(0)\n",
        "          correct += predicted.eq(Y).sum().item()\n",
        "        \n",
        "        train_loss=running_loss/len(train_dl)\n",
        "        accu=100.*correct/total\n",
        "        train_accuracies.append(accu)\n",
        "        train_losses.append(train_loss)\n",
        "          \n",
        "        print(\"Epoch= {},\\t Train cost = {:2.4f},\\t accuracy = {}\".format(epoch+1, train_losses[-1], train_accuracies[-1]))\n",
        "\n",
        "        val_running_loss=0\n",
        "        val_correct=0\n",
        "        val_total=0\n",
        "        for j, (batch_valX, batch_valY) in enumerate(val_dl):\n",
        "              \n",
        "          # Select a minibatch\n",
        "          valX = Variable(batch_valX)    # image is already size of (28x28), no reshape\n",
        "          valY = Variable(batch_valY)    # label is not one-hot encoded\n",
        "            \n",
        "          # initialization of the gradients\n",
        "            \n",
        "          #opt_fn.zero_grad()\n",
        "        \n",
        "          # prediction for training and validation set\n",
        "          hypothesis_val = model(valX)\n",
        "          loss_val = loss_fn(hypothesis_val, valY)\n",
        "          \n",
        "          val_running_loss+=loss_val.item()\n",
        "        \n",
        "          _, predicted = hypothesis_val.max(1)\n",
        "          val_total += valY.size(0)\n",
        "          val_correct += predicted.eq(valY).sum().item()\n",
        "          \n",
        "        val_loss=val_running_loss/len(val_dl)\n",
        "        val_accu=100.*val_correct/val_total\n",
        "        val_accuracies.append(val_accu)\n",
        "        val_losses.append(val_loss)  \n",
        "          #loss_val.backward() # <= compute the gradients\n",
        "          \n",
        "          # Update parameters (weights and biais)\n",
        "          #opt_fn.step()\n",
        "\n",
        "          # computing the training and validation loss\n",
        "          \n",
        "        print(\"Epoch= {},\\t val cost = {:2.4f},\\t accuracy = {}\".format(epoch+1, val_losses[-1], val_accuracies[-1]))\n",
        "        \n",
        "        #if val_loss > last_loss:\n",
        "        #      trigger_times += 1\n",
        "        #      print('Trigger Times:', trigger_times)\n",
        "\n",
        "        #      if trigger_times >= patience:\n",
        "        #          print('Early stopping!\\nStart to test process.')\n",
        "        #          return model, train_losses, val_losses, train_accuracies, val_accuracies\n",
        "\n",
        "        #else:\n",
        "        #    print('trigger times: 0')\n",
        "        #    trigger_times = 0\n",
        "\n",
        "        #last_loss = val_loss\n",
        "    else:\n",
        "      last_loss = 100\n",
        "      patience = 2\n",
        "      triggertimes = 0\n",
        "      for epoch in range(n_epochs):\n",
        "        running_loss=0\n",
        "        correct=0\n",
        "        total=0\n",
        "        for i, (batch_X, batch_Y) in enumerate(train_dl):\n",
        "        \n",
        "              \n",
        "          # Select a minibatch\n",
        "          X = Variable(batch_X)    # image is already size of (28x28), no reshape\n",
        "          Y = Variable(batch_Y)    # label is not one-hot encoded\n",
        "            \n",
        "          # initialization of the gradients\n",
        "            \n",
        "          opt_fn.zero_grad()\n",
        "        \n",
        "          # prediction for training and validation set\n",
        "          hypothesis = model(X)\n",
        "          \n",
        "          loss_train = loss_fn(hypothesis, Y)\n",
        "          \n",
        "          #l2_lambda = 0.01\n",
        "          #l2_norm = sum(p.pow(2.0).sum() for p in model.parameters())\n",
        "\n",
        "          #loss_train = loss_train + l2_lambda * l2_norm\n",
        "                  \n",
        "          \n",
        "          \n",
        "          loss_train.backward() # <= compute the gradients\n",
        "          \n",
        "          # Update parameters (weights and biais)\n",
        "          opt_fn.step()\n",
        "          running_loss += loss_train.item()\n",
        "          _, predicted = hypothesis.max(1)\n",
        "          total += Y.size(0)\n",
        "          correct += predicted.eq(Y).sum().item()\n",
        "        \n",
        "        train_loss=running_loss/len(train_dl)\n",
        "        accu=100.*correct/total\n",
        "        train_accuracies.append(accu)\n",
        "        train_losses.append(train_loss)\n",
        "          \n",
        "        print(\"Epoch= {},\\t Train cost = {:2.4f},\\t accuracy = {}\".format(epoch+1, train_losses[-1], train_accuracies[-1]))\n",
        "\n",
        "    \n",
        "    return model, train_losses, val_losses, train_accuracies, val_accuracies"
      ]
    },
    {
      "cell_type": "code",
      "execution_count": 143,
      "metadata": {
        "id": "zduWPngaI2WL"
      },
      "outputs": [],
      "source": [
        "def compute_accuracy(Y_target, hypothesis):\n",
        "    Y_prediction = hypothesis.data.max(dim=1)[1]\n",
        "    accuracy = ((Y_prediction.data == Y_target.data).float().mean())    \n",
        "    return accuracy.item()"
      ]
    },
    {
      "cell_type": "markdown",
      "metadata": {
        "id": "d8SYcymDd7fI"
      },
      "source": [
        "**Set the maximum number of training epochs, the loss function, the optimizer, and the learning rate.**"
      ]
    },
    {
      "cell_type": "code",
      "execution_count": 144,
      "metadata": {
        "id": "s7JV-ovUd7fI"
      },
      "outputs": [],
      "source": [
        "######################\n",
        "#   YOUR CODE HERE   #\n",
        "######################\n",
        "num_epochs = 200\n",
        "# Max number of training epochs\n",
        "loss_fn =  nn.CrossEntropyLoss() \n",
        "# Define the loss function\n",
        "lr =  0.001\n",
        "# Set the learning rate\n",
        "#opt_fn = torch.optim.Adam(model.parameters(), lr=lr)\n",
        "opt_fn = torch.optim.SGD(model.parameters(), lr=lr, momentum=0.9)\n",
        "# Select an optimizer"
      ]
    },
    {
      "cell_type": "code",
      "execution_count": 145,
      "metadata": {
        "colab": {
          "base_uri": "https://localhost:8080/"
        },
        "id": "aATRusvYd7fI",
        "outputId": "e780f641-2e9f-4e51-ca94-9503d98dcc8b"
      },
      "outputs": [
        {
          "name": "stdout",
          "output_type": "stream",
          "text": [
            "Epoch= 1,\t Train cost = 1.2448,\t accuracy = 54.87708333333333\n",
            "Epoch= 1,\t val cost = 0.9994,\t accuracy = 62.13333333333333\n",
            "Epoch= 2,\t Train cost = 0.6607,\t accuracy = 75.90208333333334\n",
            "Epoch= 2,\t val cost = 0.4877,\t accuracy = 82.10833333333333\n",
            "Epoch= 3,\t Train cost = 0.4437,\t accuracy = 83.89375\n",
            "Epoch= 3,\t val cost = 0.4380,\t accuracy = 84.025\n",
            "Epoch= 4,\t Train cost = 0.4149,\t accuracy = 84.88958333333333\n",
            "Epoch= 4,\t val cost = 0.4325,\t accuracy = 84.53333333333333\n",
            "Epoch= 5,\t Train cost = 0.3890,\t accuracy = 85.61458333333333\n",
            "Epoch= 5,\t val cost = 0.4071,\t accuracy = 85.225\n",
            "Epoch= 6,\t Train cost = 0.3779,\t accuracy = 86.23958333333333\n",
            "Epoch= 6,\t val cost = 0.3936,\t accuracy = 85.6\n",
            "Epoch= 7,\t Train cost = 0.3630,\t accuracy = 86.63125\n",
            "Epoch= 7,\t val cost = 0.3809,\t accuracy = 86.2\n",
            "Epoch= 8,\t Train cost = 0.3530,\t accuracy = 87.05833333333334\n",
            "Epoch= 8,\t val cost = 0.3708,\t accuracy = 86.65833333333333\n",
            "Epoch= 9,\t Train cost = 0.3460,\t accuracy = 87.33125\n",
            "Epoch= 9,\t val cost = 0.3714,\t accuracy = 86.55833333333334\n",
            "Epoch= 10,\t Train cost = 0.3343,\t accuracy = 87.55\n",
            "Epoch= 10,\t val cost = 0.3648,\t accuracy = 86.575\n",
            "Epoch= 11,\t Train cost = 0.3262,\t accuracy = 88.1\n",
            "Epoch= 11,\t val cost = 0.3610,\t accuracy = 87.025\n",
            "Epoch= 12,\t Train cost = 0.3220,\t accuracy = 88.19791666666667\n",
            "Epoch= 12,\t val cost = 0.3546,\t accuracy = 87.225\n",
            "Epoch= 13,\t Train cost = 0.3183,\t accuracy = 88.27291666666666\n",
            "Epoch= 13,\t val cost = 0.3427,\t accuracy = 87.39166666666667\n",
            "Epoch= 14,\t Train cost = 0.3107,\t accuracy = 88.51041666666667\n",
            "Epoch= 14,\t val cost = 0.3478,\t accuracy = 87.50833333333334\n",
            "Epoch= 15,\t Train cost = 0.3068,\t accuracy = 88.57916666666667\n",
            "Epoch= 15,\t val cost = 0.3432,\t accuracy = 87.34166666666667\n",
            "Epoch= 16,\t Train cost = 0.3021,\t accuracy = 88.78333333333333\n",
            "Epoch= 16,\t val cost = 0.3385,\t accuracy = 87.70833333333333\n",
            "Epoch= 17,\t Train cost = 0.2987,\t accuracy = 88.92291666666667\n",
            "Epoch= 17,\t val cost = 0.3424,\t accuracy = 87.40833333333333\n",
            "Epoch= 18,\t Train cost = 0.2956,\t accuracy = 89.06041666666667\n",
            "Epoch= 18,\t val cost = 0.3373,\t accuracy = 87.60833333333333\n",
            "Epoch= 19,\t Train cost = 0.2895,\t accuracy = 89.25\n",
            "Epoch= 19,\t val cost = 0.3329,\t accuracy = 88.1\n",
            "Epoch= 20,\t Train cost = 0.2885,\t accuracy = 89.22916666666667\n",
            "Epoch= 20,\t val cost = 0.3230,\t accuracy = 88.40833333333333\n",
            "Epoch= 21,\t Train cost = 0.2845,\t accuracy = 89.425\n",
            "Epoch= 21,\t val cost = 0.3257,\t accuracy = 88.39166666666667\n",
            "Epoch= 22,\t Train cost = 0.2808,\t accuracy = 89.6375\n",
            "Epoch= 22,\t val cost = 0.3249,\t accuracy = 88.18333333333334\n",
            "Epoch= 23,\t Train cost = 0.2788,\t accuracy = 89.5375\n",
            "Epoch= 23,\t val cost = 0.3259,\t accuracy = 88.00833333333334\n",
            "Epoch= 24,\t Train cost = 0.2745,\t accuracy = 89.59791666666666\n",
            "Epoch= 24,\t val cost = 0.3139,\t accuracy = 88.64166666666667\n",
            "Epoch= 25,\t Train cost = 0.2732,\t accuracy = 89.78541666666666\n",
            "Epoch= 25,\t val cost = 0.3138,\t accuracy = 88.7\n",
            "Epoch= 26,\t Train cost = 0.2700,\t accuracy = 89.825\n",
            "Epoch= 26,\t val cost = 0.3120,\t accuracy = 88.85\n",
            "Epoch= 27,\t Train cost = 0.2670,\t accuracy = 89.93541666666667\n",
            "Epoch= 27,\t val cost = 0.3133,\t accuracy = 88.34166666666667\n",
            "Epoch= 28,\t Train cost = 0.2676,\t accuracy = 90.03125\n",
            "Epoch= 28,\t val cost = 0.3141,\t accuracy = 88.55\n",
            "Epoch= 29,\t Train cost = 0.2639,\t accuracy = 90.19375\n",
            "Epoch= 29,\t val cost = 0.3207,\t accuracy = 88.24166666666666\n",
            "Epoch= 30,\t Train cost = 0.2633,\t accuracy = 90.08333333333333\n",
            "Epoch= 30,\t val cost = 0.3113,\t accuracy = 88.70833333333333\n",
            "Epoch= 31,\t Train cost = 0.2604,\t accuracy = 90.29583333333333\n",
            "Epoch= 31,\t val cost = 0.3031,\t accuracy = 89.06666666666666\n",
            "Epoch= 32,\t Train cost = 0.2561,\t accuracy = 90.47708333333334\n",
            "Epoch= 32,\t val cost = 0.3076,\t accuracy = 88.825\n",
            "Epoch= 33,\t Train cost = 0.2561,\t accuracy = 90.375\n",
            "Epoch= 33,\t val cost = 0.3070,\t accuracy = 88.95833333333333\n",
            "Epoch= 34,\t Train cost = 0.2518,\t accuracy = 90.57291666666667\n",
            "Epoch= 34,\t val cost = 0.3038,\t accuracy = 89.06666666666666\n",
            "Epoch= 35,\t Train cost = 0.2504,\t accuracy = 90.64166666666667\n",
            "Epoch= 35,\t val cost = 0.2997,\t accuracy = 89.14166666666667\n",
            "Epoch= 36,\t Train cost = 0.2508,\t accuracy = 90.84583333333333\n",
            "Epoch= 36,\t val cost = 0.3031,\t accuracy = 89.01666666666667\n",
            "Epoch= 37,\t Train cost = 0.2450,\t accuracy = 90.85208333333334\n",
            "Epoch= 37,\t val cost = 0.2983,\t accuracy = 89.325\n",
            "Epoch= 38,\t Train cost = 0.2491,\t accuracy = 90.70833333333333\n",
            "Epoch= 38,\t val cost = 0.3049,\t accuracy = 88.89166666666667\n",
            "Epoch= 39,\t Train cost = 0.2452,\t accuracy = 90.9375\n",
            "Epoch= 39,\t val cost = 0.3028,\t accuracy = 89.025\n",
            "Epoch= 40,\t Train cost = 0.2427,\t accuracy = 90.96666666666667\n",
            "Epoch= 40,\t val cost = 0.3067,\t accuracy = 88.98333333333333\n",
            "Epoch= 41,\t Train cost = 0.2424,\t accuracy = 90.84166666666667\n",
            "Epoch= 41,\t val cost = 0.3049,\t accuracy = 88.91666666666667\n",
            "Epoch= 42,\t Train cost = 0.2396,\t accuracy = 90.99583333333334\n",
            "Epoch= 42,\t val cost = 0.3009,\t accuracy = 89.20833333333333\n",
            "Epoch= 43,\t Train cost = 0.2398,\t accuracy = 91.00416666666666\n",
            "Epoch= 43,\t val cost = 0.3080,\t accuracy = 88.875\n",
            "Epoch= 44,\t Train cost = 0.2383,\t accuracy = 91.04375\n",
            "Epoch= 44,\t val cost = 0.2993,\t accuracy = 89.39166666666667\n",
            "Epoch= 45,\t Train cost = 0.2350,\t accuracy = 91.05625\n",
            "Epoch= 45,\t val cost = 0.3058,\t accuracy = 89.25833333333334\n",
            "Epoch= 46,\t Train cost = 0.2330,\t accuracy = 91.35833333333333\n",
            "Epoch= 46,\t val cost = 0.2977,\t accuracy = 89.24166666666666\n",
            "Epoch= 47,\t Train cost = 0.2328,\t accuracy = 91.37708333333333\n",
            "Epoch= 47,\t val cost = 0.2954,\t accuracy = 89.4\n",
            "Epoch= 48,\t Train cost = 0.2343,\t accuracy = 91.29375\n",
            "Epoch= 48,\t val cost = 0.2899,\t accuracy = 89.50833333333334\n",
            "Epoch= 49,\t Train cost = 0.2297,\t accuracy = 91.44166666666666\n",
            "Epoch= 49,\t val cost = 0.2970,\t accuracy = 89.14166666666667\n",
            "Epoch= 50,\t Train cost = 0.2320,\t accuracy = 91.20833333333333\n",
            "Epoch= 50,\t val cost = 0.2938,\t accuracy = 89.53333333333333\n",
            "Epoch= 51,\t Train cost = 0.2286,\t accuracy = 91.51666666666667\n",
            "Epoch= 51,\t val cost = 0.2916,\t accuracy = 89.58333333333333\n",
            "Epoch= 52,\t Train cost = 0.2278,\t accuracy = 91.42291666666667\n",
            "Epoch= 52,\t val cost = 0.2932,\t accuracy = 89.29166666666667\n",
            "Epoch= 53,\t Train cost = 0.2262,\t accuracy = 91.52916666666667\n",
            "Epoch= 53,\t val cost = 0.2982,\t accuracy = 89.35833333333333\n",
            "Epoch= 54,\t Train cost = 0.2242,\t accuracy = 91.68333333333334\n",
            "Epoch= 54,\t val cost = 0.2870,\t accuracy = 89.70833333333333\n",
            "Epoch= 55,\t Train cost = 0.2224,\t accuracy = 91.62083333333334\n",
            "Epoch= 55,\t val cost = 0.2955,\t accuracy = 89.875\n",
            "Epoch= 56,\t Train cost = 0.2211,\t accuracy = 91.71875\n",
            "Epoch= 56,\t val cost = 0.3047,\t accuracy = 88.975\n",
            "Epoch= 57,\t Train cost = 0.2212,\t accuracy = 91.66041666666666\n",
            "Epoch= 57,\t val cost = 0.2959,\t accuracy = 89.19166666666666\n",
            "Epoch= 58,\t Train cost = 0.2199,\t accuracy = 91.72708333333334\n",
            "Epoch= 58,\t val cost = 0.2974,\t accuracy = 89.28333333333333\n",
            "Epoch= 59,\t Train cost = 0.2193,\t accuracy = 91.81875\n",
            "Epoch= 59,\t val cost = 0.2964,\t accuracy = 89.2\n",
            "Epoch= 60,\t Train cost = 0.2173,\t accuracy = 91.88541666666667\n",
            "Epoch= 60,\t val cost = 0.2860,\t accuracy = 89.98333333333333\n",
            "Epoch= 61,\t Train cost = 0.2170,\t accuracy = 91.7625\n",
            "Epoch= 61,\t val cost = 0.2835,\t accuracy = 89.70833333333333\n",
            "Epoch= 62,\t Train cost = 0.2159,\t accuracy = 91.79583333333333\n",
            "Epoch= 62,\t val cost = 0.2966,\t accuracy = 89.475\n",
            "Epoch= 63,\t Train cost = 0.2141,\t accuracy = 91.975\n",
            "Epoch= 63,\t val cost = 0.2899,\t accuracy = 89.625\n",
            "Epoch= 64,\t Train cost = 0.2128,\t accuracy = 92.16041666666666\n",
            "Epoch= 64,\t val cost = 0.2954,\t accuracy = 89.15\n",
            "Epoch= 65,\t Train cost = 0.2134,\t accuracy = 91.93125\n",
            "Epoch= 65,\t val cost = 0.2889,\t accuracy = 89.55833333333334\n",
            "Epoch= 66,\t Train cost = 0.2097,\t accuracy = 92.08125\n",
            "Epoch= 66,\t val cost = 0.2868,\t accuracy = 89.825\n",
            "Epoch= 67,\t Train cost = 0.2130,\t accuracy = 91.91041666666666\n",
            "Epoch= 67,\t val cost = 0.2915,\t accuracy = 89.63333333333334\n",
            "Epoch= 68,\t Train cost = 0.2080,\t accuracy = 92.25833333333334\n",
            "Epoch= 68,\t val cost = 0.2879,\t accuracy = 89.94166666666666\n",
            "Epoch= 69,\t Train cost = 0.2080,\t accuracy = 92.22291666666666\n",
            "Epoch= 69,\t val cost = 0.2874,\t accuracy = 89.86666666666666\n",
            "Epoch= 70,\t Train cost = 0.2063,\t accuracy = 92.22291666666666\n",
            "Epoch= 70,\t val cost = 0.2866,\t accuracy = 89.96666666666667\n",
            "Epoch= 71,\t Train cost = 0.2061,\t accuracy = 92.18125\n",
            "Epoch= 71,\t val cost = 0.2866,\t accuracy = 89.74166666666666\n",
            "Epoch= 72,\t Train cost = 0.2070,\t accuracy = 92.15\n",
            "Epoch= 72,\t val cost = 0.2806,\t accuracy = 89.775\n",
            "Epoch= 73,\t Train cost = 0.2058,\t accuracy = 92.225\n",
            "Epoch= 73,\t val cost = 0.2846,\t accuracy = 89.74166666666666\n",
            "Epoch= 74,\t Train cost = 0.2027,\t accuracy = 92.42291666666667\n",
            "Epoch= 74,\t val cost = 0.2900,\t accuracy = 89.81666666666666\n",
            "Epoch= 75,\t Train cost = 0.2037,\t accuracy = 92.275\n",
            "Epoch= 75,\t val cost = 0.2846,\t accuracy = 89.95833333333333\n",
            "Epoch= 76,\t Train cost = 0.2034,\t accuracy = 92.35\n",
            "Epoch= 76,\t val cost = 0.2834,\t accuracy = 89.71666666666667\n",
            "Epoch= 77,\t Train cost = 0.2015,\t accuracy = 92.36875\n",
            "Epoch= 77,\t val cost = 0.2886,\t accuracy = 89.625\n",
            "Epoch= 78,\t Train cost = 0.1996,\t accuracy = 92.47083333333333\n",
            "Epoch= 78,\t val cost = 0.2963,\t accuracy = 89.00833333333334\n",
            "Epoch= 79,\t Train cost = 0.2015,\t accuracy = 92.29583333333333\n",
            "Epoch= 79,\t val cost = 0.2872,\t accuracy = 89.925\n",
            "Epoch= 80,\t Train cost = 0.1997,\t accuracy = 92.42916666666666\n",
            "Epoch= 80,\t val cost = 0.2897,\t accuracy = 89.89166666666667\n",
            "Epoch= 81,\t Train cost = 0.1988,\t accuracy = 92.6375\n",
            "Epoch= 81,\t val cost = 0.2926,\t accuracy = 89.68333333333334\n",
            "Epoch= 82,\t Train cost = 0.1989,\t accuracy = 92.53125\n",
            "Epoch= 82,\t val cost = 0.2855,\t accuracy = 89.55\n",
            "Epoch= 83,\t Train cost = 0.1965,\t accuracy = 92.59791666666666\n",
            "Epoch= 83,\t val cost = 0.2942,\t accuracy = 89.99166666666666\n",
            "Epoch= 84,\t Train cost = 0.1966,\t accuracy = 92.69166666666666\n",
            "Epoch= 84,\t val cost = 0.2839,\t accuracy = 89.94166666666666\n",
            "Epoch= 85,\t Train cost = 0.1963,\t accuracy = 92.63958333333333\n",
            "Epoch= 85,\t val cost = 0.2888,\t accuracy = 89.75833333333334\n",
            "Epoch= 86,\t Train cost = 0.1944,\t accuracy = 92.53333333333333\n",
            "Epoch= 86,\t val cost = 0.2909,\t accuracy = 89.40833333333333\n",
            "Epoch= 87,\t Train cost = 0.1972,\t accuracy = 92.57291666666667\n",
            "Epoch= 87,\t val cost = 0.2943,\t accuracy = 89.63333333333334\n",
            "Epoch= 88,\t Train cost = 0.1923,\t accuracy = 92.70208333333333\n",
            "Epoch= 88,\t val cost = 0.2936,\t accuracy = 89.81666666666666\n",
            "Epoch= 89,\t Train cost = 0.1921,\t accuracy = 92.70625\n",
            "Epoch= 89,\t val cost = 0.2880,\t accuracy = 89.71666666666667\n",
            "Epoch= 90,\t Train cost = 0.1921,\t accuracy = 92.77916666666667\n",
            "Epoch= 90,\t val cost = 0.2827,\t accuracy = 90.1\n",
            "Epoch= 91,\t Train cost = 0.1909,\t accuracy = 92.85208333333334\n",
            "Epoch= 91,\t val cost = 0.2903,\t accuracy = 89.875\n",
            "Epoch= 92,\t Train cost = 0.1882,\t accuracy = 92.8\n",
            "Epoch= 92,\t val cost = 0.2922,\t accuracy = 89.70833333333333\n",
            "Epoch= 93,\t Train cost = 0.1895,\t accuracy = 92.875\n",
            "Epoch= 93,\t val cost = 0.2891,\t accuracy = 90.0\n",
            "Epoch= 94,\t Train cost = 0.1863,\t accuracy = 92.97916666666667\n",
            "Epoch= 94,\t val cost = 0.2897,\t accuracy = 89.93333333333334\n",
            "Epoch= 95,\t Train cost = 0.1882,\t accuracy = 92.9125\n",
            "Epoch= 95,\t val cost = 0.2916,\t accuracy = 89.525\n",
            "Epoch= 96,\t Train cost = 0.1878,\t accuracy = 92.89375\n",
            "Epoch= 96,\t val cost = 0.2868,\t accuracy = 89.89166666666667\n",
            "Epoch= 97,\t Train cost = 0.1861,\t accuracy = 93.01666666666667\n",
            "Epoch= 97,\t val cost = 0.2899,\t accuracy = 89.98333333333333\n",
            "Epoch= 98,\t Train cost = 0.1819,\t accuracy = 93.175\n",
            "Epoch= 98,\t val cost = 0.2878,\t accuracy = 90.075\n",
            "Epoch= 99,\t Train cost = 0.1856,\t accuracy = 92.95416666666667\n",
            "Epoch= 99,\t val cost = 0.2880,\t accuracy = 89.64166666666667\n",
            "Epoch= 100,\t Train cost = 0.1863,\t accuracy = 93.0625\n",
            "Epoch= 100,\t val cost = 0.2826,\t accuracy = 90.06666666666666\n",
            "Epoch= 101,\t Train cost = 0.1834,\t accuracy = 93.1\n",
            "Epoch= 101,\t val cost = 0.2931,\t accuracy = 89.8\n",
            "Epoch= 102,\t Train cost = 0.1819,\t accuracy = 93.08333333333333\n",
            "Epoch= 102,\t val cost = 0.2870,\t accuracy = 90.05\n",
            "Epoch= 103,\t Train cost = 0.1819,\t accuracy = 93.21875\n",
            "Epoch= 103,\t val cost = 0.2960,\t accuracy = 89.90833333333333\n",
            "Epoch= 104,\t Train cost = 0.1804,\t accuracy = 93.10416666666667\n",
            "Epoch= 104,\t val cost = 0.2902,\t accuracy = 90.40833333333333\n",
            "Epoch= 105,\t Train cost = 0.1815,\t accuracy = 93.2\n",
            "Epoch= 105,\t val cost = 0.2887,\t accuracy = 89.90833333333333\n",
            "Epoch= 106,\t Train cost = 0.1815,\t accuracy = 93.07708333333333\n",
            "Epoch= 106,\t val cost = 0.2877,\t accuracy = 90.25\n",
            "Epoch= 107,\t Train cost = 0.1791,\t accuracy = 93.26041666666667\n",
            "Epoch= 107,\t val cost = 0.2846,\t accuracy = 89.93333333333334\n",
            "Epoch= 108,\t Train cost = 0.1779,\t accuracy = 93.37083333333334\n",
            "Epoch= 108,\t val cost = 0.2919,\t accuracy = 89.725\n",
            "Epoch= 109,\t Train cost = 0.1805,\t accuracy = 93.22083333333333\n",
            "Epoch= 109,\t val cost = 0.2942,\t accuracy = 89.83333333333333\n",
            "Epoch= 110,\t Train cost = 0.1784,\t accuracy = 93.31041666666667\n",
            "Epoch= 110,\t val cost = 0.2899,\t accuracy = 89.96666666666667\n",
            "Epoch= 111,\t Train cost = 0.1765,\t accuracy = 93.325\n",
            "Epoch= 111,\t val cost = 0.2926,\t accuracy = 89.85833333333333\n",
            "Epoch= 112,\t Train cost = 0.1787,\t accuracy = 93.325\n",
            "Epoch= 112,\t val cost = 0.2941,\t accuracy = 89.56666666666666\n",
            "Epoch= 113,\t Train cost = 0.1761,\t accuracy = 93.26875\n",
            "Epoch= 113,\t val cost = 0.2885,\t accuracy = 89.69166666666666\n",
            "Epoch= 114,\t Train cost = 0.1776,\t accuracy = 93.21875\n",
            "Epoch= 114,\t val cost = 0.2932,\t accuracy = 89.75833333333334\n",
            "Epoch= 115,\t Train cost = 0.1765,\t accuracy = 93.36875\n",
            "Epoch= 115,\t val cost = 0.2848,\t accuracy = 89.85833333333333\n",
            "Epoch= 116,\t Train cost = 0.1748,\t accuracy = 93.30208333333333\n",
            "Epoch= 116,\t val cost = 0.2976,\t accuracy = 89.58333333333333\n",
            "Epoch= 117,\t Train cost = 0.1764,\t accuracy = 93.28541666666666\n",
            "Epoch= 117,\t val cost = 0.2920,\t accuracy = 89.61666666666666\n",
            "Epoch= 118,\t Train cost = 0.1742,\t accuracy = 93.325\n",
            "Epoch= 118,\t val cost = 0.2927,\t accuracy = 89.93333333333334\n",
            "Epoch= 119,\t Train cost = 0.1735,\t accuracy = 93.5625\n",
            "Epoch= 119,\t val cost = 0.2900,\t accuracy = 90.075\n",
            "Epoch= 120,\t Train cost = 0.1698,\t accuracy = 93.55208333333333\n",
            "Epoch= 120,\t val cost = 0.2884,\t accuracy = 89.74166666666666\n",
            "Epoch= 121,\t Train cost = 0.1716,\t accuracy = 93.48333333333333\n",
            "Epoch= 121,\t val cost = 0.2938,\t accuracy = 89.6\n",
            "Epoch= 122,\t Train cost = 0.1722,\t accuracy = 93.48958333333333\n",
            "Epoch= 122,\t val cost = 0.2910,\t accuracy = 89.89166666666667\n",
            "Epoch= 123,\t Train cost = 0.1691,\t accuracy = 93.525\n",
            "Epoch= 123,\t val cost = 0.2958,\t accuracy = 89.90833333333333\n",
            "Epoch= 124,\t Train cost = 0.1713,\t accuracy = 93.55416666666666\n",
            "Epoch= 124,\t val cost = 0.2893,\t accuracy = 89.8\n",
            "Epoch= 125,\t Train cost = 0.1698,\t accuracy = 93.6375\n",
            "Epoch= 125,\t val cost = 0.2928,\t accuracy = 90.00833333333334\n",
            "Epoch= 126,\t Train cost = 0.1720,\t accuracy = 93.44791666666667\n",
            "Epoch= 126,\t val cost = 0.3010,\t accuracy = 89.55\n",
            "Epoch= 127,\t Train cost = 0.1703,\t accuracy = 93.54166666666667\n",
            "Epoch= 127,\t val cost = 0.2958,\t accuracy = 90.08333333333333\n",
            "Epoch= 128,\t Train cost = 0.1682,\t accuracy = 93.64166666666667\n",
            "Epoch= 128,\t val cost = 0.2990,\t accuracy = 90.10833333333333\n",
            "Epoch= 129,\t Train cost = 0.1653,\t accuracy = 93.77083333333333\n",
            "Epoch= 129,\t val cost = 0.2953,\t accuracy = 90.09166666666667\n",
            "Epoch= 130,\t Train cost = 0.1674,\t accuracy = 93.55416666666666\n",
            "Epoch= 130,\t val cost = 0.2928,\t accuracy = 90.05\n",
            "Epoch= 131,\t Train cost = 0.1673,\t accuracy = 93.55833333333334\n",
            "Epoch= 131,\t val cost = 0.3006,\t accuracy = 89.96666666666667\n",
            "Epoch= 132,\t Train cost = 0.1656,\t accuracy = 93.66875\n",
            "Epoch= 132,\t val cost = 0.2920,\t accuracy = 89.925\n",
            "Epoch= 133,\t Train cost = 0.1642,\t accuracy = 93.64375\n",
            "Epoch= 133,\t val cost = 0.3055,\t accuracy = 89.7\n",
            "Epoch= 134,\t Train cost = 0.1668,\t accuracy = 93.66041666666666\n",
            "Epoch= 134,\t val cost = 0.2911,\t accuracy = 90.10833333333333\n",
            "Epoch= 135,\t Train cost = 0.1642,\t accuracy = 93.85416666666667\n",
            "Epoch= 135,\t val cost = 0.2968,\t accuracy = 90.025\n",
            "Epoch= 136,\t Train cost = 0.1647,\t accuracy = 93.87916666666666\n",
            "Epoch= 136,\t val cost = 0.2971,\t accuracy = 89.83333333333333\n",
            "Epoch= 137,\t Train cost = 0.1650,\t accuracy = 93.77291666666666\n",
            "Epoch= 137,\t val cost = 0.2957,\t accuracy = 89.975\n",
            "Epoch= 138,\t Train cost = 0.1648,\t accuracy = 93.83333333333333\n",
            "Epoch= 138,\t val cost = 0.2992,\t accuracy = 89.88333333333334\n",
            "Epoch= 139,\t Train cost = 0.1622,\t accuracy = 93.75208333333333\n",
            "Epoch= 139,\t val cost = 0.3016,\t accuracy = 89.86666666666666\n",
            "Epoch= 140,\t Train cost = 0.1644,\t accuracy = 93.73125\n",
            "Epoch= 140,\t val cost = 0.2929,\t accuracy = 90.08333333333333\n",
            "Epoch= 141,\t Train cost = 0.1593,\t accuracy = 94.00625\n",
            "Epoch= 141,\t val cost = 0.2949,\t accuracy = 90.01666666666667\n",
            "Epoch= 142,\t Train cost = 0.1609,\t accuracy = 93.94791666666667\n",
            "Epoch= 142,\t val cost = 0.2992,\t accuracy = 90.01666666666667\n",
            "Epoch= 143,\t Train cost = 0.1628,\t accuracy = 93.82708333333333\n",
            "Epoch= 143,\t val cost = 0.2983,\t accuracy = 89.86666666666666\n",
            "Epoch= 144,\t Train cost = 0.1602,\t accuracy = 93.94583333333334\n",
            "Epoch= 144,\t val cost = 0.2977,\t accuracy = 89.99166666666666\n",
            "Epoch= 145,\t Train cost = 0.1626,\t accuracy = 93.85\n",
            "Epoch= 145,\t val cost = 0.3078,\t accuracy = 89.54166666666667\n",
            "Epoch= 146,\t Train cost = 0.1594,\t accuracy = 94.01458333333333\n",
            "Epoch= 146,\t val cost = 0.3019,\t accuracy = 89.86666666666666\n",
            "Epoch= 147,\t Train cost = 0.1610,\t accuracy = 93.96666666666667\n",
            "Epoch= 147,\t val cost = 0.2967,\t accuracy = 89.84166666666667\n",
            "Epoch= 148,\t Train cost = 0.1581,\t accuracy = 94.07083333333334\n",
            "Epoch= 148,\t val cost = 0.3044,\t accuracy = 89.63333333333334\n",
            "Epoch= 149,\t Train cost = 0.1581,\t accuracy = 93.97291666666666\n",
            "Epoch= 149,\t val cost = 0.2995,\t accuracy = 90.06666666666666\n",
            "Epoch= 150,\t Train cost = 0.1571,\t accuracy = 94.10208333333334\n",
            "Epoch= 150,\t val cost = 0.2983,\t accuracy = 90.025\n",
            "Epoch= 151,\t Train cost = 0.1598,\t accuracy = 93.85\n",
            "Epoch= 151,\t val cost = 0.3008,\t accuracy = 90.00833333333334\n",
            "Epoch= 152,\t Train cost = 0.1562,\t accuracy = 93.96458333333334\n",
            "Epoch= 152,\t val cost = 0.2993,\t accuracy = 90.05833333333334\n",
            "Epoch= 153,\t Train cost = 0.1553,\t accuracy = 94.125\n",
            "Epoch= 153,\t val cost = 0.3026,\t accuracy = 89.91666666666667\n",
            "Epoch= 154,\t Train cost = 0.1536,\t accuracy = 94.01666666666667\n",
            "Epoch= 154,\t val cost = 0.3128,\t accuracy = 89.69166666666666\n",
            "Epoch= 155,\t Train cost = 0.1567,\t accuracy = 93.96666666666667\n",
            "Epoch= 155,\t val cost = 0.3011,\t accuracy = 89.85833333333333\n",
            "Epoch= 156,\t Train cost = 0.1545,\t accuracy = 94.00833333333334\n",
            "Epoch= 156,\t val cost = 0.3104,\t accuracy = 89.73333333333333\n",
            "Epoch= 157,\t Train cost = 0.1538,\t accuracy = 94.11041666666667\n",
            "Epoch= 157,\t val cost = 0.3009,\t accuracy = 89.89166666666667\n",
            "Epoch= 158,\t Train cost = 0.1571,\t accuracy = 93.96458333333334\n",
            "Epoch= 158,\t val cost = 0.2964,\t accuracy = 90.08333333333333\n",
            "Epoch= 159,\t Train cost = 0.1542,\t accuracy = 94.04583333333333\n",
            "Epoch= 159,\t val cost = 0.3018,\t accuracy = 90.25833333333334\n",
            "Epoch= 160,\t Train cost = 0.1532,\t accuracy = 94.225\n",
            "Epoch= 160,\t val cost = 0.3031,\t accuracy = 89.91666666666667\n",
            "Epoch= 161,\t Train cost = 0.1555,\t accuracy = 94.05833333333334\n",
            "Epoch= 161,\t val cost = 0.2967,\t accuracy = 89.95833333333333\n",
            "Epoch= 162,\t Train cost = 0.1524,\t accuracy = 94.15625\n",
            "Epoch= 162,\t val cost = 0.3071,\t accuracy = 89.93333333333334\n",
            "Epoch= 163,\t Train cost = 0.1532,\t accuracy = 94.2\n",
            "Epoch= 163,\t val cost = 0.2993,\t accuracy = 90.21666666666667\n",
            "Epoch= 164,\t Train cost = 0.1503,\t accuracy = 94.33541666666666\n",
            "Epoch= 164,\t val cost = 0.3193,\t accuracy = 89.66666666666667\n",
            "Epoch= 165,\t Train cost = 0.1528,\t accuracy = 94.09583333333333\n",
            "Epoch= 165,\t val cost = 0.3000,\t accuracy = 89.9\n",
            "Epoch= 166,\t Train cost = 0.1510,\t accuracy = 94.2375\n",
            "Epoch= 166,\t val cost = 0.3048,\t accuracy = 89.875\n",
            "Epoch= 167,\t Train cost = 0.1504,\t accuracy = 94.24166666666666\n",
            "Epoch= 167,\t val cost = 0.3086,\t accuracy = 89.79166666666667\n",
            "Epoch= 168,\t Train cost = 0.1495,\t accuracy = 94.34375\n",
            "Epoch= 168,\t val cost = 0.3086,\t accuracy = 89.8\n",
            "Epoch= 169,\t Train cost = 0.1499,\t accuracy = 94.25416666666666\n",
            "Epoch= 169,\t val cost = 0.3011,\t accuracy = 90.06666666666666\n",
            "Epoch= 170,\t Train cost = 0.1485,\t accuracy = 94.3625\n",
            "Epoch= 170,\t val cost = 0.3082,\t accuracy = 89.98333333333333\n",
            "Epoch= 171,\t Train cost = 0.1482,\t accuracy = 94.35\n",
            "Epoch= 171,\t val cost = 0.3107,\t accuracy = 90.13333333333334\n",
            "Epoch= 172,\t Train cost = 0.1514,\t accuracy = 94.16875\n",
            "Epoch= 172,\t val cost = 0.3070,\t accuracy = 89.93333333333334\n",
            "Epoch= 173,\t Train cost = 0.1485,\t accuracy = 94.37916666666666\n",
            "Epoch= 173,\t val cost = 0.3170,\t accuracy = 89.5\n",
            "Epoch= 174,\t Train cost = 0.1532,\t accuracy = 94.19166666666666\n",
            "Epoch= 174,\t val cost = 0.3007,\t accuracy = 89.96666666666667\n",
            "Epoch= 175,\t Train cost = 0.1478,\t accuracy = 94.28125\n",
            "Epoch= 175,\t val cost = 0.3132,\t accuracy = 90.0\n",
            "Epoch= 176,\t Train cost = 0.1469,\t accuracy = 94.33541666666666\n",
            "Epoch= 176,\t val cost = 0.3074,\t accuracy = 90.225\n",
            "Epoch= 177,\t Train cost = 0.1487,\t accuracy = 94.32916666666667\n",
            "Epoch= 177,\t val cost = 0.3046,\t accuracy = 90.075\n",
            "Epoch= 178,\t Train cost = 0.1472,\t accuracy = 94.32291666666667\n",
            "Epoch= 178,\t val cost = 0.3090,\t accuracy = 89.9\n",
            "Epoch= 179,\t Train cost = 0.1457,\t accuracy = 94.46875\n",
            "Epoch= 179,\t val cost = 0.3098,\t accuracy = 89.9\n",
            "Epoch= 180,\t Train cost = 0.1474,\t accuracy = 94.29791666666667\n",
            "Epoch= 180,\t val cost = 0.3073,\t accuracy = 90.25\n",
            "Epoch= 181,\t Train cost = 0.1455,\t accuracy = 94.45208333333333\n",
            "Epoch= 181,\t val cost = 0.3100,\t accuracy = 90.03333333333333\n",
            "Epoch= 182,\t Train cost = 0.1467,\t accuracy = 94.47916666666667\n",
            "Epoch= 182,\t val cost = 0.3123,\t accuracy = 89.64166666666667\n",
            "Epoch= 183,\t Train cost = 0.1433,\t accuracy = 94.5\n",
            "Epoch= 183,\t val cost = 0.3163,\t accuracy = 89.89166666666667\n",
            "Epoch= 184,\t Train cost = 0.1473,\t accuracy = 94.41875\n",
            "Epoch= 184,\t val cost = 0.3110,\t accuracy = 89.98333333333333\n",
            "Epoch= 185,\t Train cost = 0.1457,\t accuracy = 94.48541666666667\n",
            "Epoch= 185,\t val cost = 0.3101,\t accuracy = 89.9\n",
            "Epoch= 186,\t Train cost = 0.1468,\t accuracy = 94.41458333333334\n",
            "Epoch= 186,\t val cost = 0.3154,\t accuracy = 89.99166666666666\n",
            "Epoch= 187,\t Train cost = 0.1415,\t accuracy = 94.58958333333334\n",
            "Epoch= 187,\t val cost = 0.3180,\t accuracy = 89.66666666666667\n",
            "Epoch= 188,\t Train cost = 0.1455,\t accuracy = 94.52708333333334\n",
            "Epoch= 188,\t val cost = 0.3026,\t accuracy = 90.33333333333333\n",
            "Epoch= 189,\t Train cost = 0.1432,\t accuracy = 94.63541666666667\n",
            "Epoch= 189,\t val cost = 0.3142,\t accuracy = 89.93333333333334\n",
            "Epoch= 190,\t Train cost = 0.1430,\t accuracy = 94.40625\n",
            "Epoch= 190,\t val cost = 0.3164,\t accuracy = 90.19166666666666\n",
            "Epoch= 191,\t Train cost = 0.1424,\t accuracy = 94.53541666666666\n",
            "Epoch= 191,\t val cost = 0.3120,\t accuracy = 89.96666666666667\n",
            "Epoch= 192,\t Train cost = 0.1439,\t accuracy = 94.4375\n",
            "Epoch= 192,\t val cost = 0.3067,\t accuracy = 90.1\n",
            "Epoch= 193,\t Train cost = 0.1409,\t accuracy = 94.55625\n",
            "Epoch= 193,\t val cost = 0.3099,\t accuracy = 89.89166666666667\n",
            "Epoch= 194,\t Train cost = 0.1419,\t accuracy = 94.61666666666666\n",
            "Epoch= 194,\t val cost = 0.3161,\t accuracy = 89.475\n",
            "Epoch= 195,\t Train cost = 0.1404,\t accuracy = 94.69791666666667\n",
            "Epoch= 195,\t val cost = 0.3095,\t accuracy = 89.93333333333334\n",
            "Epoch= 196,\t Train cost = 0.1415,\t accuracy = 94.52708333333334\n",
            "Epoch= 196,\t val cost = 0.3068,\t accuracy = 89.90833333333333\n",
            "Epoch= 197,\t Train cost = 0.1392,\t accuracy = 94.64791666666666\n",
            "Epoch= 197,\t val cost = 0.3109,\t accuracy = 89.88333333333334\n",
            "Epoch= 198,\t Train cost = 0.1396,\t accuracy = 94.70416666666667\n",
            "Epoch= 198,\t val cost = 0.3140,\t accuracy = 89.60833333333333\n",
            "Epoch= 199,\t Train cost = 0.1395,\t accuracy = 94.6875\n",
            "Epoch= 199,\t val cost = 0.3056,\t accuracy = 90.24166666666666\n",
            "Epoch= 200,\t Train cost = 0.1397,\t accuracy = 94.63541666666667\n",
            "Epoch= 200,\t val cost = 0.3132,\t accuracy = 89.75\n"
          ]
        }
      ],
      "source": [
        "history = train_model(num_epochs, model, train_dl, val_dl, loss_fn, opt_fn, lr)\n",
        "\n",
        "# (Optional)\n",
        "# Once training is finished, save model as .pth and avoid retraining for the following blocks"
      ]
    },
    {
      "cell_type": "code",
      "execution_count": 146,
      "metadata": {
        "id": "6xNY7i618T7w"
      },
      "outputs": [],
      "source": [
        "# (Optional)\n",
        "# Add necessary codes to the next block to load the model from file.\n",
        "# load model history"
      ]
    },
    {
      "cell_type": "code",
      "execution_count": 147,
      "metadata": {
        "id": "9d8bZAoI8QMk"
      },
      "outputs": [],
      "source": [
        "model, train_losses, val_losses, train_accuracies, val_accuracies = history"
      ]
    },
    {
      "cell_type": "markdown",
      "metadata": {
        "id": "kAlO7hJ3d7fI"
      },
      "source": [
        "## Plot loss and accuracy"
      ]
    },
    {
      "cell_type": "code",
      "execution_count": 148,
      "metadata": {
        "id": "IgZH6-tRd7fJ"
      },
      "outputs": [],
      "source": [
        "def plot_accuracy(train_accuracies, val_accuracies):\n",
        "    \"\"\"Plot accuracies\"\"\"\n",
        "    plt.plot(train_accuracies, \"-x\")\n",
        "    plt.plot(val_accuracies, \"-o\")\n",
        "    plt.xlabel(\"Epoch\")\n",
        "    plt.ylabel(\"Accuracy\")\n",
        "    plt.legend([\"Training\", \"Validation\"])\n",
        "    plt.title(\"Accuracy vs. No. of epochs\")"
      ]
    },
    {
      "cell_type": "code",
      "execution_count": 149,
      "metadata": {
        "colab": {
          "base_uri": "https://localhost:8080/",
          "height": 295
        },
        "id": "5p949D2Jd7fJ",
        "outputId": "93a88a7d-e86b-4b3f-df45-ee58a95c9301"
      },
      "outputs": [
        {
          "data": {
            "image/png": "[encoded data removed]",
            "text/plain": [
              "<Figure size 432x288 with 1 Axes>"
            ]
          },
          "metadata": {
            "needs_background": "light"
          },
          "output_type": "display_data"
        }
      ],
      "source": [
        "plot_accuracy(train_accuracies, val_accuracies)"
      ]
    },
    {
      "cell_type": "code",
      "execution_count": 150,
      "metadata": {
        "id": "mLT6fa9Kd7fJ"
      },
      "outputs": [],
      "source": [
        "def plot_losses(train_losses, val_losses):\n",
        "    \"\"\"Plot losses\"\"\"\n",
        "    plt.plot(train_losses, \"-x\")\n",
        "    plt.plot(val_losses, \"-o\")\n",
        "    plt.xlabel(\"Epoch\")\n",
        "    plt.ylabel(\"Loss\")\n",
        "    plt.legend([\"Training\", \"Validation\"])\n",
        "    plt.title(\"Loss vs. No. of Epochs\")"
      ]
    },
    {
      "cell_type": "code",
      "execution_count": 151,
      "metadata": {
        "colab": {
          "base_uri": "https://localhost:8080/",
          "height": 295
        },
        "id": "2MnwfDpOd7fJ",
        "outputId": "a60af5d1-7643-406c-ffbc-5d3765632440"
      },
      "outputs": [
        {
          "data": {
            "image/png": "[encoded data removed]",
            "text/plain": [
              "<Figure size 432x288 with 1 Axes>"
            ]
          },
          "metadata": {
            "needs_background": "light"
          },
          "output_type": "display_data"
        }
      ],
      "source": [
        "plot_losses(train_losses, val_losses)"
      ]
    },
    {
      "cell_type": "markdown",
      "metadata": {
        "id": "hJ-p0RjYd7fJ"
      },
      "source": [
        "## Train a model on the entire dataset"
      ]
    },
    {
      "cell_type": "code",
      "execution_count": 152,
      "metadata": {
        "id": "eCpqCmbed7fJ"
      },
      "outputs": [],
      "source": [
        "indices, _ = split_indices(len(dataset), 0, rand_seed)\n",
        "\n",
        "sampler = SubsetRandomSampler(indices)\n",
        "dl = DataLoader(dataset, batch_size, sampler=sampler)\n",
        "dl = DeviceDataLoader(dl, device)"
      ]
    },
    {
      "cell_type": "markdown",
      "metadata": {
        "id": "IsgMQH7cd7fK"
      },
      "source": [
        "**Set the maximum number of training epochs and the learning rate for finetuning your model.**"
      ]
    },
    {
      "cell_type": "code",
      "execution_count": 153,
      "metadata": {
        "id": "tkTQCYu_d7fK"
      },
      "outputs": [],
      "source": [
        "######################\n",
        "#   YOUR CODE HERE   #\n",
        "######################\n",
        "num_epochs = len(history[1])\n",
        "# Max number of training epochs\n",
        "lr = 0.001\n",
        "# Set the learning rate"
      ]
    },
    {
      "cell_type": "code",
      "execution_count": 154,
      "metadata": {
        "colab": {
          "base_uri": "https://localhost:8080/"
        },
        "id": "djPw-AArd7fK",
        "outputId": "1325d0a2-d5a3-4d29-e952-78fba8a04c90"
      },
      "outputs": [
        {
          "name": "stdout",
          "output_type": "stream",
          "text": [
            "Epoch= 1,\t Train cost = 0.1740,\t accuracy = 93.685\n",
            "Epoch= 2,\t Train cost = 0.1743,\t accuracy = 93.7\n",
            "Epoch= 3,\t Train cost = 0.1691,\t accuracy = 93.81666666666666\n",
            "Epoch= 4,\t Train cost = 0.1671,\t accuracy = 93.76166666666667\n",
            "Epoch= 5,\t Train cost = 0.1668,\t accuracy = 93.83166666666666\n",
            "Epoch= 6,\t Train cost = 0.1657,\t accuracy = 93.94\n",
            "Epoch= 7,\t Train cost = 0.1650,\t accuracy = 93.90166666666667\n",
            "Epoch= 8,\t Train cost = 0.1639,\t accuracy = 93.85666666666667\n",
            "Epoch= 9,\t Train cost = 0.1640,\t accuracy = 93.89166666666667\n",
            "Epoch= 10,\t Train cost = 0.1629,\t accuracy = 93.95166666666667\n",
            "Epoch= 11,\t Train cost = 0.1620,\t accuracy = 93.94666666666667\n",
            "Epoch= 12,\t Train cost = 0.1616,\t accuracy = 94.00166666666667\n",
            "Epoch= 13,\t Train cost = 0.1591,\t accuracy = 94.09166666666667\n",
            "Epoch= 14,\t Train cost = 0.1600,\t accuracy = 94.13166666666666\n",
            "Epoch= 15,\t Train cost = 0.1588,\t accuracy = 94.095\n",
            "Epoch= 16,\t Train cost = 0.1577,\t accuracy = 94.14666666666666\n",
            "Epoch= 17,\t Train cost = 0.1586,\t accuracy = 94.15166666666667\n",
            "Epoch= 18,\t Train cost = 0.1606,\t accuracy = 94.07166666666667\n",
            "Epoch= 19,\t Train cost = 0.1567,\t accuracy = 94.08\n",
            "Epoch= 20,\t Train cost = 0.1542,\t accuracy = 94.255\n",
            "Epoch= 21,\t Train cost = 0.1536,\t accuracy = 94.27333333333333\n",
            "Epoch= 22,\t Train cost = 0.1563,\t accuracy = 94.175\n",
            "Epoch= 23,\t Train cost = 0.1566,\t accuracy = 94.125\n",
            "Epoch= 24,\t Train cost = 0.1550,\t accuracy = 94.255\n",
            "Epoch= 25,\t Train cost = 0.1558,\t accuracy = 94.17833333333333\n",
            "Epoch= 26,\t Train cost = 0.1523,\t accuracy = 94.33166666666666\n",
            "Epoch= 27,\t Train cost = 0.1549,\t accuracy = 94.175\n",
            "Epoch= 28,\t Train cost = 0.1545,\t accuracy = 94.165\n",
            "Epoch= 29,\t Train cost = 0.1534,\t accuracy = 94.14166666666667\n",
            "Epoch= 30,\t Train cost = 0.1510,\t accuracy = 94.275\n",
            "Epoch= 31,\t Train cost = 0.1501,\t accuracy = 94.36166666666666\n",
            "Epoch= 32,\t Train cost = 0.1491,\t accuracy = 94.41833333333334\n",
            "Epoch= 33,\t Train cost = 0.1505,\t accuracy = 94.43666666666667\n",
            "Epoch= 34,\t Train cost = 0.1505,\t accuracy = 94.385\n",
            "Epoch= 35,\t Train cost = 0.1510,\t accuracy = 94.27833333333334\n",
            "Epoch= 36,\t Train cost = 0.1520,\t accuracy = 94.24166666666666\n",
            "Epoch= 37,\t Train cost = 0.1488,\t accuracy = 94.37166666666667\n",
            "Epoch= 38,\t Train cost = 0.1499,\t accuracy = 94.27\n",
            "Epoch= 39,\t Train cost = 0.1509,\t accuracy = 94.37\n",
            "Epoch= 40,\t Train cost = 0.1491,\t accuracy = 94.375\n",
            "Epoch= 41,\t Train cost = 0.1464,\t accuracy = 94.46333333333334\n",
            "Epoch= 42,\t Train cost = 0.1473,\t accuracy = 94.39166666666667\n",
            "Epoch= 43,\t Train cost = 0.1475,\t accuracy = 94.41\n",
            "Epoch= 44,\t Train cost = 0.1486,\t accuracy = 94.38333333333334\n",
            "Epoch= 45,\t Train cost = 0.1468,\t accuracy = 94.41833333333334\n",
            "Epoch= 46,\t Train cost = 0.1457,\t accuracy = 94.57666666666667\n",
            "Epoch= 47,\t Train cost = 0.1473,\t accuracy = 94.46333333333334\n",
            "Epoch= 48,\t Train cost = 0.1449,\t accuracy = 94.445\n",
            "Epoch= 49,\t Train cost = 0.1436,\t accuracy = 94.515\n",
            "Epoch= 50,\t Train cost = 0.1453,\t accuracy = 94.47833333333334\n",
            "Epoch= 51,\t Train cost = 0.1453,\t accuracy = 94.46666666666667\n",
            "Epoch= 52,\t Train cost = 0.1433,\t accuracy = 94.56\n",
            "Epoch= 53,\t Train cost = 0.1450,\t accuracy = 94.51\n",
            "Epoch= 54,\t Train cost = 0.1423,\t accuracy = 94.57166666666667\n",
            "Epoch= 55,\t Train cost = 0.1443,\t accuracy = 94.58\n",
            "Epoch= 56,\t Train cost = 0.1436,\t accuracy = 94.54333333333334\n",
            "Epoch= 57,\t Train cost = 0.1450,\t accuracy = 94.56333333333333\n",
            "Epoch= 58,\t Train cost = 0.1447,\t accuracy = 94.44666666666667\n",
            "Epoch= 59,\t Train cost = 0.1419,\t accuracy = 94.635\n",
            "Epoch= 60,\t Train cost = 0.1425,\t accuracy = 94.63333333333334\n",
            "Epoch= 61,\t Train cost = 0.1419,\t accuracy = 94.63833333333334\n",
            "Epoch= 62,\t Train cost = 0.1431,\t accuracy = 94.52333333333333\n",
            "Epoch= 63,\t Train cost = 0.1428,\t accuracy = 94.59833333333333\n",
            "Epoch= 64,\t Train cost = 0.1409,\t accuracy = 94.63\n",
            "Epoch= 65,\t Train cost = 0.1400,\t accuracy = 94.66833333333334\n",
            "Epoch= 66,\t Train cost = 0.1403,\t accuracy = 94.68\n",
            "Epoch= 67,\t Train cost = 0.1398,\t accuracy = 94.62166666666667\n",
            "Epoch= 68,\t Train cost = 0.1372,\t accuracy = 94.8\n",
            "Epoch= 69,\t Train cost = 0.1410,\t accuracy = 94.64166666666667\n",
            "Epoch= 70,\t Train cost = 0.1437,\t accuracy = 94.53\n",
            "Epoch= 71,\t Train cost = 0.1401,\t accuracy = 94.76833333333333\n",
            "Epoch= 72,\t Train cost = 0.1406,\t accuracy = 94.61833333333334\n",
            "Epoch= 73,\t Train cost = 0.1394,\t accuracy = 94.76166666666667\n",
            "Epoch= 74,\t Train cost = 0.1402,\t accuracy = 94.55333333333333\n",
            "Epoch= 75,\t Train cost = 0.1402,\t accuracy = 94.725\n",
            "Epoch= 76,\t Train cost = 0.1372,\t accuracy = 94.85833333333333\n",
            "Epoch= 77,\t Train cost = 0.1391,\t accuracy = 94.665\n",
            "Epoch= 78,\t Train cost = 0.1409,\t accuracy = 94.66166666666666\n",
            "Epoch= 79,\t Train cost = 0.1384,\t accuracy = 94.785\n",
            "Epoch= 80,\t Train cost = 0.1383,\t accuracy = 94.76\n",
            "Epoch= 81,\t Train cost = 0.1398,\t accuracy = 94.735\n",
            "Epoch= 82,\t Train cost = 0.1386,\t accuracy = 94.725\n",
            "Epoch= 83,\t Train cost = 0.1378,\t accuracy = 94.80333333333333\n",
            "Epoch= 84,\t Train cost = 0.1388,\t accuracy = 94.75333333333333\n",
            "Epoch= 85,\t Train cost = 0.1372,\t accuracy = 94.68333333333334\n",
            "Epoch= 86,\t Train cost = 0.1362,\t accuracy = 94.75833333333334\n",
            "Epoch= 87,\t Train cost = 0.1339,\t accuracy = 94.96333333333334\n",
            "Epoch= 88,\t Train cost = 0.1374,\t accuracy = 94.84\n",
            "Epoch= 89,\t Train cost = 0.1335,\t accuracy = 94.95333333333333\n",
            "Epoch= 90,\t Train cost = 0.1341,\t accuracy = 94.83666666666667\n",
            "Epoch= 91,\t Train cost = 0.1345,\t accuracy = 94.93\n",
            "Epoch= 92,\t Train cost = 0.1354,\t accuracy = 94.86166666666666\n",
            "Epoch= 93,\t Train cost = 0.1343,\t accuracy = 94.84\n",
            "Epoch= 94,\t Train cost = 0.1330,\t accuracy = 95.03\n",
            "Epoch= 95,\t Train cost = 0.1366,\t accuracy = 94.76166666666667\n",
            "Epoch= 96,\t Train cost = 0.1345,\t accuracy = 94.99166666666666\n",
            "Epoch= 97,\t Train cost = 0.1346,\t accuracy = 94.81\n",
            "Epoch= 98,\t Train cost = 0.1342,\t accuracy = 94.85333333333334\n",
            "Epoch= 99,\t Train cost = 0.1334,\t accuracy = 94.86666666666666\n",
            "Epoch= 100,\t Train cost = 0.1324,\t accuracy = 94.89333333333333\n",
            "Epoch= 101,\t Train cost = 0.1340,\t accuracy = 94.82333333333334\n",
            "Epoch= 102,\t Train cost = 0.1311,\t accuracy = 95.065\n",
            "Epoch= 103,\t Train cost = 0.1340,\t accuracy = 94.99833333333333\n",
            "Epoch= 104,\t Train cost = 0.1349,\t accuracy = 94.94\n",
            "Epoch= 105,\t Train cost = 0.1320,\t accuracy = 95.01166666666667\n",
            "Epoch= 106,\t Train cost = 0.1322,\t accuracy = 95.06\n",
            "Epoch= 107,\t Train cost = 0.1331,\t accuracy = 94.88666666666667\n",
            "Epoch= 108,\t Train cost = 0.1339,\t accuracy = 94.84833333333333\n",
            "Epoch= 109,\t Train cost = 0.1321,\t accuracy = 95.00666666666666\n",
            "Epoch= 110,\t Train cost = 0.1323,\t accuracy = 94.99833333333333\n",
            "Epoch= 111,\t Train cost = 0.1329,\t accuracy = 94.95666666666666\n",
            "Epoch= 112,\t Train cost = 0.1329,\t accuracy = 95.06\n",
            "Epoch= 113,\t Train cost = 0.1310,\t accuracy = 95.00333333333333\n",
            "Epoch= 114,\t Train cost = 0.1301,\t accuracy = 95.00666666666666\n",
            "Epoch= 115,\t Train cost = 0.1311,\t accuracy = 95.06833333333333\n",
            "Epoch= 116,\t Train cost = 0.1299,\t accuracy = 94.99166666666666\n",
            "Epoch= 117,\t Train cost = 0.1322,\t accuracy = 95.15333333333334\n",
            "Epoch= 118,\t Train cost = 0.1296,\t accuracy = 95.13166666666666\n",
            "Epoch= 119,\t Train cost = 0.1291,\t accuracy = 95.08166666666666\n",
            "Epoch= 120,\t Train cost = 0.1292,\t accuracy = 95.08666666666667\n",
            "Epoch= 121,\t Train cost = 0.1290,\t accuracy = 94.93166666666667\n",
            "Epoch= 122,\t Train cost = 0.1285,\t accuracy = 95.045\n",
            "Epoch= 123,\t Train cost = 0.1283,\t accuracy = 95.13666666666667\n",
            "Epoch= 124,\t Train cost = 0.1310,\t accuracy = 94.95833333333333\n",
            "Epoch= 125,\t Train cost = 0.1286,\t accuracy = 95.14833333333333\n",
            "Epoch= 126,\t Train cost = 0.1308,\t accuracy = 95.11833333333334\n",
            "Epoch= 127,\t Train cost = 0.1289,\t accuracy = 95.03666666666666\n",
            "Epoch= 128,\t Train cost = 0.1280,\t accuracy = 95.16333333333333\n",
            "Epoch= 129,\t Train cost = 0.1282,\t accuracy = 95.10166666666667\n",
            "Epoch= 130,\t Train cost = 0.1289,\t accuracy = 95.10333333333334\n",
            "Epoch= 131,\t Train cost = 0.1289,\t accuracy = 95.085\n",
            "Epoch= 132,\t Train cost = 0.1286,\t accuracy = 95.18\n",
            "Epoch= 133,\t Train cost = 0.1301,\t accuracy = 94.97333333333333\n",
            "Epoch= 134,\t Train cost = 0.1291,\t accuracy = 95.12166666666667\n",
            "Epoch= 135,\t Train cost = 0.1297,\t accuracy = 95.11\n",
            "Epoch= 136,\t Train cost = 0.1300,\t accuracy = 95.08\n",
            "Epoch= 137,\t Train cost = 0.1253,\t accuracy = 95.26\n",
            "Epoch= 138,\t Train cost = 0.1271,\t accuracy = 95.10166666666667\n",
            "Epoch= 139,\t Train cost = 0.1257,\t accuracy = 95.14166666666667\n",
            "Epoch= 140,\t Train cost = 0.1271,\t accuracy = 95.23333333333333\n",
            "Epoch= 141,\t Train cost = 0.1253,\t accuracy = 95.21\n",
            "Epoch= 142,\t Train cost = 0.1250,\t accuracy = 95.31833333333333\n",
            "Epoch= 143,\t Train cost = 0.1268,\t accuracy = 95.15666666666667\n",
            "Epoch= 144,\t Train cost = 0.1259,\t accuracy = 95.23666666666666\n",
            "Epoch= 145,\t Train cost = 0.1262,\t accuracy = 95.20666666666666\n",
            "Epoch= 146,\t Train cost = 0.1278,\t accuracy = 95.11666666666666\n",
            "Epoch= 147,\t Train cost = 0.1247,\t accuracy = 95.20666666666666\n",
            "Epoch= 148,\t Train cost = 0.1229,\t accuracy = 95.31333333333333\n",
            "Epoch= 149,\t Train cost = 0.1244,\t accuracy = 95.28833333333333\n",
            "Epoch= 150,\t Train cost = 0.1233,\t accuracy = 95.29166666666667\n",
            "Epoch= 151,\t Train cost = 0.1251,\t accuracy = 95.225\n",
            "Epoch= 152,\t Train cost = 0.1246,\t accuracy = 95.30666666666667\n",
            "Epoch= 153,\t Train cost = 0.1247,\t accuracy = 95.28833333333333\n",
            "Epoch= 154,\t Train cost = 0.1229,\t accuracy = 95.245\n",
            "Epoch= 155,\t Train cost = 0.1250,\t accuracy = 95.25666666666666\n",
            "Epoch= 156,\t Train cost = 0.1233,\t accuracy = 95.27\n",
            "Epoch= 157,\t Train cost = 0.1235,\t accuracy = 95.265\n",
            "Epoch= 158,\t Train cost = 0.1236,\t accuracy = 95.28833333333333\n",
            "Epoch= 159,\t Train cost = 0.1242,\t accuracy = 95.195\n",
            "Epoch= 160,\t Train cost = 0.1246,\t accuracy = 95.34\n",
            "Epoch= 161,\t Train cost = 0.1233,\t accuracy = 95.22166666666666\n",
            "Epoch= 162,\t Train cost = 0.1234,\t accuracy = 95.30166666666666\n",
            "Epoch= 163,\t Train cost = 0.1235,\t accuracy = 95.37166666666667\n",
            "Epoch= 164,\t Train cost = 0.1238,\t accuracy = 95.265\n",
            "Epoch= 165,\t Train cost = 0.1228,\t accuracy = 95.24166666666666\n",
            "Epoch= 166,\t Train cost = 0.1242,\t accuracy = 95.29833333333333\n",
            "Epoch= 167,\t Train cost = 0.1245,\t accuracy = 95.335\n",
            "Epoch= 168,\t Train cost = 0.1220,\t accuracy = 95.40166666666667\n",
            "Epoch= 169,\t Train cost = 0.1205,\t accuracy = 95.43166666666667\n",
            "Epoch= 170,\t Train cost = 0.1203,\t accuracy = 95.42666666666666\n",
            "Epoch= 171,\t Train cost = 0.1218,\t accuracy = 95.30333333333333\n",
            "Epoch= 172,\t Train cost = 0.1253,\t accuracy = 95.18666666666667\n",
            "Epoch= 173,\t Train cost = 0.1246,\t accuracy = 95.17666666666666\n",
            "Epoch= 174,\t Train cost = 0.1251,\t accuracy = 95.255\n",
            "Epoch= 175,\t Train cost = 0.1227,\t accuracy = 95.26833333333333\n",
            "Epoch= 176,\t Train cost = 0.1245,\t accuracy = 95.255\n",
            "Epoch= 177,\t Train cost = 0.1216,\t accuracy = 95.42333333333333\n",
            "Epoch= 178,\t Train cost = 0.1224,\t accuracy = 95.33333333333333\n",
            "Epoch= 179,\t Train cost = 0.1207,\t accuracy = 95.39\n",
            "Epoch= 180,\t Train cost = 0.1201,\t accuracy = 95.53833333333333\n",
            "Epoch= 181,\t Train cost = 0.1225,\t accuracy = 95.38166666666666\n",
            "Epoch= 182,\t Train cost = 0.1211,\t accuracy = 95.41666666666667\n",
            "Epoch= 183,\t Train cost = 0.1210,\t accuracy = 95.34333333333333\n",
            "Epoch= 184,\t Train cost = 0.1200,\t accuracy = 95.445\n",
            "Epoch= 185,\t Train cost = 0.1189,\t accuracy = 95.46333333333334\n",
            "Epoch= 186,\t Train cost = 0.1193,\t accuracy = 95.53166666666667\n",
            "Epoch= 187,\t Train cost = 0.1190,\t accuracy = 95.415\n",
            "Epoch= 188,\t Train cost = 0.1213,\t accuracy = 95.4\n",
            "Epoch= 189,\t Train cost = 0.1209,\t accuracy = 95.365\n",
            "Epoch= 190,\t Train cost = 0.1198,\t accuracy = 95.40833333333333\n",
            "Epoch= 191,\t Train cost = 0.1198,\t accuracy = 95.47666666666667\n",
            "Epoch= 192,\t Train cost = 0.1206,\t accuracy = 95.43833333333333\n",
            "Epoch= 193,\t Train cost = 0.1186,\t accuracy = 95.47\n",
            "Epoch= 194,\t Train cost = 0.1197,\t accuracy = 95.44833333333334\n",
            "Epoch= 195,\t Train cost = 0.1196,\t accuracy = 95.575\n",
            "Epoch= 196,\t Train cost = 0.1188,\t accuracy = 95.435\n",
            "Epoch= 197,\t Train cost = 0.1198,\t accuracy = 95.43833333333333\n",
            "Epoch= 198,\t Train cost = 0.1210,\t accuracy = 95.34333333333333\n",
            "Epoch= 199,\t Train cost = 0.1199,\t accuracy = 95.43\n",
            "Epoch= 200,\t Train cost = 0.1198,\t accuracy = 95.39666666666666\n"
          ]
        }
      ],
      "source": [
        "history = train_model(num_epochs, model, dl, [], loss_fn, opt_fn, lr)\n",
        "model = history[0]"
      ]
    },
    {
      "cell_type": "markdown",
      "metadata": {
        "id": "f9sHHEqHd7fK"
      },
      "source": [
        "## Check Predictions"
      ]
    },
    {
      "cell_type": "code",
      "execution_count": 155,
      "metadata": {
        "id": "6C2v6JgOd7fK"
      },
      "outputs": [],
      "source": [
        "def view_prediction(img, label, probs, classes):\n",
        "    \"\"\"\n",
        "    Visualize predictions.\n",
        "    \"\"\"\n",
        "    probs = probs.cpu().numpy().squeeze()\n",
        "\n",
        "    fig, (ax1, ax2) = plt.subplots(figsize=(8,15), ncols=2)\n",
        "    ax1.imshow(img.resize_(1, 28, 28).cpu().numpy().squeeze(), cmap='Greys_r')\n",
        "    ax1.axis('off')\n",
        "    ax1.set_title('Actual: {}'.format(classes[label]))\n",
        "    ax2.barh(np.arange(10), probs)\n",
        "    ax2.set_aspect(0.1)\n",
        "    ax2.set_yticks(np.arange(10))\n",
        "    ax2.set_yticklabels(classes, size='small');\n",
        "    ax2.set_title('Predicted: probabilities')\n",
        "    ax2.set_xlim(0, 1.1)\n",
        "\n",
        "    plt.tight_layout()"
      ]
    },
    {
      "cell_type": "code",
      "execution_count": 156,
      "metadata": {
        "colab": {
          "base_uri": "https://localhost:8080/",
          "height": 307
        },
        "id": "3uyDRvW2d7fK",
        "outputId": "06da9eb6-0000-4128-d388-1000c2dd6ad2"
      },
      "outputs": [
        {
          "data": {
            "image/png": "[encoded data removed]",
            "text/plain": [
              "<Figure size 576x1080 with 2 Axes>"
            ]
          },
          "metadata": {
            "needs_background": "light"
          },
          "output_type": "display_data"
        }
      ],
      "source": [
        "# Calculate the class probabilites (log softmax) for img\n",
        "images = iter(dl)\n",
        "for imgs, labels in images:\n",
        "    with torch.no_grad():\n",
        "        model.eval()\n",
        "        # Calculate the class probabilites (log softmax) for img\n",
        "        probs = torch.nn.functional.softmax(model(imgs[0].unsqueeze(0)), dim=1)\n",
        "        # Plot the image and probabilites\n",
        "        view_prediction(imgs[0], labels[0], probs, dataset.classes)\n",
        "    break"
      ]
    },
    {
      "cell_type": "markdown",
      "metadata": {
        "id": "cuYB5juFd7fL"
      },
      "source": [
        "## Save the model"
      ]
    },
    {
      "cell_type": "code",
      "execution_count": 157,
      "metadata": {
        "id": "fHgHYXcid7fL"
      },
      "outputs": [],
      "source": [
        "# Very important\n",
        "torch.save(model, 'model')"
      ]
    },
    {
      "cell_type": "markdown",
      "metadata": {
        "id": "Sbkp61bvd7fL"
      },
      "source": [
        "## Question 4\n",
        "\n",
        "## Compute accuracy on the test set"
      ]
    },
    {
      "cell_type": "code",
      "execution_count": 158,
      "metadata": {
        "id": "oSPdA1mCd7fL"
      },
      "outputs": [],
      "source": [
        "test_dataset = FashionMNIST('MNIST_data/', download = True, train = False, transform = transform)"
      ]
    },
    {
      "cell_type": "code",
      "execution_count": 159,
      "metadata": {
        "id": "KVhz5ldTd7fL"
      },
      "outputs": [],
      "source": [
        "test_dl = DataLoader(test_dataset, batch_size)\n",
        "test_dl = DeviceDataLoader(test_dl, device)"
      ]
    },
    {
      "cell_type": "code",
      "execution_count": 160,
      "metadata": {
        "id": "WxrohWhMd7fL"
      },
      "outputs": [],
      "source": [
        "from numpy import vstack\n",
        "from numpy import argmax\n",
        "def evaluate(model, test_dl):\n",
        "    \"\"\"\n",
        "    Evaluates your model on the test data.\n",
        "    \n",
        "    Args:\n",
        "        model: ImageClassifierNet object\n",
        "        test_dl: test dataloader\n",
        "    \n",
        "    Returns: \n",
        "        Test accuracy.\n",
        "    \"\"\"\n",
        "    ######################\n",
        "    #   YOUR CODE HERE   #\n",
        "    ######################\n",
        "    predictions, actuals = list(), list()\n",
        "    for i, (inputs, targets) in enumerate(test_dl):\n",
        "        # evaluate the model on the test set\n",
        "        yhat = model(inputs)\n",
        "        # retrieve numpy array\n",
        "        yhat = yhat.detach().numpy()\n",
        "        actual = targets.numpy()\n",
        "        # convert to class labels\n",
        "        yhat = argmax(yhat, axis=1)\n",
        "        # reshape for stacking\n",
        "        actual = actual.reshape((len(actual), 1))\n",
        "        yhat = yhat.reshape((len(yhat), 1))\n",
        "        # store\n",
        "        predictions.append(yhat)\n",
        "        actuals.append(actual)\n",
        "    predictions, actuals = vstack(predictions), vstack(actuals)\n",
        "    # calculate accuracy\n",
        "    acc = accuracy_score(actuals, predictions)\n",
        "    return acc\n"
      ]
    },
    {
      "cell_type": "code",
      "execution_count": 161,
      "metadata": {
        "colab": {
          "base_uri": "https://localhost:8080/"
        },
        "id": "6NupaE4Ad7fL",
        "outputId": "31584141-a3fe-4856-b77e-4e3d1c71a44d"
      },
      "outputs": [
        {
          "name": "stdout",
          "output_type": "stream",
          "text": [
            "Test Accuracy = 0.9182\n"
          ]
        }
      ],
      "source": [
        "print(\"Test Accuracy = {:.4f}\".format(evaluate(model, test_dl)))"
      ]
    },
    {
      "cell_type": "markdown",
      "metadata": {
        "id": "VLKxAsOFlcCR"
      },
      "source": [
        "## Preparing the CSV for Kaggle submission"
      ]
    },
    {
      "cell_type": "code",
      "execution_count": 162,
      "metadata": {
        "colab": {
          "base_uri": "https://localhost:8080/"
        },
        "id": "8mbl7qqIoak3",
        "outputId": "96c85981-5bd1-416e-9168-126e2a49632c"
      },
      "outputs": [
        {
          "name": "stdout",
          "output_type": "stream",
          "text": [
            "--2022-05-03 23:44:39--  https://people.tamu.edu/~sumedhpendurkar/csce633/test_private/dataset.zip\n",
            "Resolving people.tamu.edu (people.tamu.edu)... 128.194.54.37\n",
            "Connecting to people.tamu.edu (people.tamu.edu)|128.194.54.37|:443... connected.\n",
            "HTTP request sent, awaiting response... 200 OK\n",
            "Length: 6101143 (5.8M) [application/zip]\n",
            "Saving to: ‘/tmp/dataset.zip’\n",
            "\n",
            "/tmp/dataset.zip    100%[===================>]   5.82M  9.92MB/s    in 0.6s    \n",
            "\n",
            "2022-05-03 23:44:40 (9.92 MB/s) - ‘/tmp/dataset.zip’ saved [6101143/6101143]\n",
            "\n"
          ]
        }
      ],
      "source": [
        "import zipfile\n",
        "from tqdm import tqdm\n",
        "from torchvision.io import read_image\n",
        "!wget --no-check-certificate \\\n",
        "    \"https://people.tamu.edu/~sumedhpendurkar/csce633/test_private/dataset.zip\" \\\n",
        "    -O \"/tmp/dataset.zip\"\n",
        "zip_ref = zipfile.ZipFile('/tmp/dataset.zip', 'r') #Opens the zip file in read mode\n",
        "zip_ref.extractall('/tmp') #Extracts the files into the /tmp folder\n",
        "zip_ref.close()"
      ]
    },
    {
      "cell_type": "code",
      "execution_count": 163,
      "metadata": {
        "id": "59P1JDTzg7q0"
      },
      "outputs": [],
      "source": [
        "from torch.utils.data import Dataset\n",
        "import pandas as pd\n",
        "from tqdm import tqdm\n",
        "class PrivateImageDataset(Dataset):\n",
        "    def __init__(self, base_path, length, transform=None):\n",
        "        self.base_path = base_path\n",
        "        self.transform = transform\n",
        "        self.length = length\n",
        "\n",
        "    def __len__(self):\n",
        "        return (self.length)\n",
        "\n",
        "    def __getitem__(self, idx):\n",
        "        path = self.base_path + str(idx) + '.png'\n",
        "        im = Image.open(path)\n",
        "        if self.transform:\n",
        "            image = self.transform(im)\n",
        "        return image, 0"
      ]
    },
    {
      "cell_type": "code",
      "execution_count": 164,
      "metadata": {
        "id": "ImlgJdfgt1bn"
      },
      "outputs": [],
      "source": [
        "def get_test_labels(model, dataset_size):\n",
        "    test_dataset = PrivateImageDataset('/tmp/', dataset_size, transform=transform)\n",
        "    test_dl = DataLoader(test_dataset, batch_size)\n",
        "    test_dl = DeviceDataLoader(test_dl, device)\n",
        "    preds, labels = [], []\n",
        "    with torch.no_grad():\n",
        "        model.eval()\n",
        "        \n",
        "        for i, data in tqdm(enumerate(test_dl)):\n",
        "            xb, yb = data\n",
        "            y_pred = model(xb)\n",
        "            _, y = torch.max(y_pred, dim=1)\n",
        "            preds.extend(y_pred)\n",
        "            labels.extend(y)\n",
        "    return preds, labels"
      ]
    },
    {
      "cell_type": "code",
      "execution_count": 165,
      "metadata": {
        "id": "JO7b6DNYo6o-"
      },
      "outputs": [],
      "source": [
        "def create_csv_for_kaggle(model):\n",
        "    dataset_size = 10000\n",
        "    _, labels = get_test_labels(model, dataset_size)\n",
        "    data = []\n",
        "    for i in range(len(labels)):\n",
        "        data.append([str(i) + '.png', labels[i].item()])\n",
        "    df = pd.DataFrame(data, columns=['id', 'label'])\n",
        "    df.to_csv('/home/submission.csv',index=False)\n",
        "    return df\n",
        "    \n"
      ]
    },
    {
      "cell_type": "code",
      "execution_count": 166,
      "metadata": {
        "colab": {
          "base_uri": "https://localhost:8080/",
          "height": 441
        },
        "id": "eLlp-IuMolpg",
        "outputId": "a18516c8-7554-42af-b6c9-c507ed2d6a68"
      },
      "outputs": [
        {
          "name": "stderr",
          "output_type": "stream",
          "text": [
            "200it [00:10, 18.93it/s]\n"
          ]
        },
        {
          "data": {
            "text/html": [
              "\n",
              "  <div id=\"df-3fca6d8c-e29e-4eb1-86ce-fe860cee4154\">\n",
              "    <div class=\"colab-df-container\">\n",
              "      <div>\n",
              "<style scoped>\n",
              "    .dataframe tbody tr th:only-of-type {\n",
              "        vertical-align: middle;\n",
              "    }\n",
              "\n",
              "    .dataframe tbody tr th {\n",
              "        vertical-align: top;\n",
              "    }\n",
              "\n",
              "    .dataframe thead th {\n",
              "        text-align: right;\n",
              "    }\n",
              "</style>\n",
              "<table border=\"1\" class=\"dataframe\">\n",
              "  <thead>\n",
              "    <tr style=\"text-align: right;\">\n",
              "      <th></th>\n",
              "      <th>id</th>\n",
              "      <th>label</th>\n",
              "    </tr>\n",
              "  </thead>\n",
              "  <tbody>\n",
              "    <tr>\n",
              "      <th>0</th>\n",
              "      <td>0.png</td>\n",
              "      <td>9</td>\n",
              "    </tr>\n",
              "    <tr>\n",
              "      <th>1</th>\n",
              "      <td>1.png</td>\n",
              "      <td>2</td>\n",
              "    </tr>\n",
              "    <tr>\n",
              "      <th>2</th>\n",
              "      <td>2.png</td>\n",
              "      <td>1</td>\n",
              "    </tr>\n",
              "    <tr>\n",
              "      <th>3</th>\n",
              "      <td>3.png</td>\n",
              "      <td>1</td>\n",
              "    </tr>\n",
              "    <tr>\n",
              "      <th>4</th>\n",
              "      <td>4.png</td>\n",
              "      <td>6</td>\n",
              "    </tr>\n",
              "    <tr>\n",
              "      <th>...</th>\n",
              "      <td>...</td>\n",
              "      <td>...</td>\n",
              "    </tr>\n",
              "    <tr>\n",
              "      <th>9995</th>\n",
              "      <td>9995.png</td>\n",
              "      <td>9</td>\n",
              "    </tr>\n",
              "    <tr>\n",
              "      <th>9996</th>\n",
              "      <td>9996.png</td>\n",
              "      <td>1</td>\n",
              "    </tr>\n",
              "    <tr>\n",
              "      <th>9997</th>\n",
              "      <td>9997.png</td>\n",
              "      <td>8</td>\n",
              "    </tr>\n",
              "    <tr>\n",
              "      <th>9998</th>\n",
              "      <td>9998.png</td>\n",
              "      <td>1</td>\n",
              "    </tr>\n",
              "    <tr>\n",
              "      <th>9999</th>\n",
              "      <td>9999.png</td>\n",
              "      <td>7</td>\n",
              "    </tr>\n",
              "  </tbody>\n",
              "</table>\n",
              "<p>10000 rows × 2 columns</p>\n",
              "</div>\n",
              "      <button class=\"colab-df-convert\" onclick=\"convertToInteractive('df-3fca6d8c-e29e-4eb1-86ce-fe860cee4154')\"\n",
              "              title=\"Convert this dataframe to an interactive table.\"\n",
              "              style=\"display:none;\">\n",
              "        \n",
              "  <svg xmlns=\"http://www.w3.org/2000/svg\" height=\"24px\"viewBox=\"0 0 24 24\"\n",
              "       width=\"24px\">\n",
              "    <path d=\"M0 0h24v24H0V0z\" fill=\"none\"/>\n",
              "    <path d=\"M18.56 5.44l.94 2.06.94-2.06 2.06-.94-2.06-.94-.94-2.06-.94 2.06-2.06.94zm-11 1L8.5 8.5l.94-2.06 2.06-.94-2.06-.94L8.5 2.5l-.94 2.06-2.06.94zm10 10l.94 2.06.94-2.06 2.06-.94-2.06-.94-.94-2.06-.94 2.06-2.06.94z\"/><path d=\"M17.41 7.96l-1.37-1.37c-.4-.4-.92-.59-1.43-.59-.52 0-1.04.2-1.43.59L10.3 9.45l-7.72 7.72c-.78.78-.78 2.05 0 2.83L4 21.41c.39.39.9.59 1.41.59.51 0 1.02-.2 1.41-.59l7.78-7.78 2.81-2.81c.8-.78.8-2.07 0-2.86zM5.41 20L4 18.59l7.72-7.72 1.47 1.35L5.41 20z\"/>\n",
              "  </svg>\n",
              "      </button>\n",
              "      \n",
              "  <style>\n",
              "    .colab-df-container {\n",
              "      display:flex;\n",
              "      flex-wrap:wrap;\n",
              "      gap: 12px;\n",
              "    }\n",
              "\n",
              "    .colab-df-convert {\n",
              "      background-color: #E8F0FE;\n",
              "      border: none;\n",
              "      border-radius: 50%;\n",
              "      cursor: pointer;\n",
              "      display: none;\n",
              "      fill: #1967D2;\n",
              "      height: 32px;\n",
              "      padding: 0 0 0 0;\n",
              "      width: 32px;\n",
              "    }\n",
              "\n",
              "    .colab-df-convert:hover {\n",
              "      background-color: #E2EBFA;\n",
              "      box-shadow: 0px 1px 2px rgba(60, 64, 67, 0.3), 0px 1px 3px 1px rgba(60, 64, 67, 0.15);\n",
              "      fill: #174EA6;\n",
              "    }\n",
              "\n",
              "    [theme=dark] .colab-df-convert {\n",
              "      background-color: #3B4455;\n",
              "      fill: #D2E3FC;\n",
              "    }\n",
              "\n",
              "    [theme=dark] .colab-df-convert:hover {\n",
              "      background-color: #434B5C;\n",
              "      box-shadow: 0px 1px 3px 1px rgba(0, 0, 0, 0.15);\n",
              "      filter: drop-shadow(0px 1px 2px rgba(0, 0, 0, 0.3));\n",
              "      fill: #FFFFFF;\n",
              "    }\n",
              "  </style>\n",
              "\n",
              "      <script>\n",
              "        const buttonEl =\n",
              "          document.querySelector('#df-3fca6d8c-e29e-4eb1-86ce-fe860cee4154 button.colab-df-convert');\n",
              "        buttonEl.style.display =\n",
              "          google.colab.kernel.accessAllowed ? 'block' : 'none';\n",
              "\n",
              "        async function convertToInteractive(key) {\n",
              "          const element = document.querySelector('#df-3fca6d8c-e29e-4eb1-86ce-fe860cee4154');\n",
              "          const dataTable =\n",
              "            await google.colab.kernel.invokeFunction('convertToInteractive',\n",
              "                                                     [key], {});\n",
              "          if (!dataTable) return;\n",
              "\n",
              "          const docLinkHtml = 'Like what you see? Visit the ' +\n",
              "            '<a target=\"_blank\" href=https://colab.research.google.com/notebooks/data_table.ipynb>data table notebook</a>'\n",
              "            + ' to learn more about interactive tables.';\n",
              "          element.innerHTML = '';\n",
              "          dataTable['output_type'] = 'display_data';\n",
              "          await google.colab.output.renderOutput(dataTable, element);\n",
              "          const docLink = document.createElement('div');\n",
              "          docLink.innerHTML = docLinkHtml;\n",
              "          element.appendChild(docLink);\n",
              "        }\n",
              "      </script>\n",
              "    </div>\n",
              "  </div>\n",
              "  "
            ],
            "text/plain": [
              "            id  label\n",
              "0        0.png      9\n",
              "1        1.png      2\n",
              "2        2.png      1\n",
              "3        3.png      1\n",
              "4        4.png      6\n",
              "...        ...    ...\n",
              "9995  9995.png      9\n",
              "9996  9996.png      1\n",
              "9997  9997.png      8\n",
              "9998  9998.png      1\n",
              "9999  9999.png      7\n",
              "\n",
              "[10000 rows x 2 columns]"
            ]
          },
          "execution_count": 166,
          "metadata": {},
          "output_type": "execute_result"
        }
      ],
      "source": [
        "create_csv_for_kaggle(model)"
      ]
    },
    {
      "cell_type": "code",
      "execution_count": 166,
      "metadata": {
        "id": "vnjtcM3Td7fM"
      },
      "outputs": [],
      "source": []
    }
  ],
  "metadata": {
    "colab": {
      "collapsed_sections": [
        "qYSP2fbFd7fM"
      ],
      "name": "Programming_Assignment_5_deep_learning.ipynb",
      "provenance": []
    },
    "kernelspec": {
      "display_name": "Python 3",
      "language": "python",
      "name": "python3"
    },
    "language_info": {
      "codemirror_mode": {
        "name": "ipython",
        "version": 3
      },
      "file_extension": ".py",
      "mimetype": "text/x-python",
      "name": "python",
      "nbconvert_exporter": "python",
      "pygments_lexer": "ipython3",
      "version": "3.6.13"
    }
  },
  "nbformat": 4,
  "nbformat_minor": 0
}
